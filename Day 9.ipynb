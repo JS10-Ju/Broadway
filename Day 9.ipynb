{
 "cells": [
  {
   "cell_type": "code",
   "execution_count": 2,
   "metadata": {},
   "outputs": [
    {
     "name": "stdout",
     "output_type": "stream",
     "text": [
      "['ball', 'cat', 'dog']\n"
     ]
    }
   ],
   "source": [
    "#delete\n",
    "a=[\"apple\",\"ball\",\"cat\",\"dog\"]\n",
    "del a[0]\n",
    "print(a)"
   ]
  },
  {
   "cell_type": "code",
   "execution_count": 3,
   "metadata": {},
   "outputs": [
    {
     "name": "stdout",
     "output_type": "stream",
     "text": [
      "['dog']\n"
     ]
    }
   ],
   "source": [
    "a=[\"apple\",\"ball\",\"cat\",\"dog\"]\n",
    "del a[0:3]\n",
    "print(a)"
   ]
  },
  {
   "cell_type": "code",
   "execution_count": 4,
   "metadata": {},
   "outputs": [
    {
     "name": "stdout",
     "output_type": "stream",
     "text": [
      "['apple', 'cat', 'dog']\n"
     ]
    }
   ],
   "source": [
    "#use of remove\n",
    "a=[\"apple\",\"ball\",\"cat\",\"dog\"]\n",
    "a.remove(\"ball\")\n",
    "print(a)"
   ]
  },
  {
   "cell_type": "code",
   "execution_count": 5,
   "metadata": {},
   "outputs": [
    {
     "name": "stdout",
     "output_type": "stream",
     "text": [
      "['apple', 'ball', 'cat']\n"
     ]
    }
   ],
   "source": [
    "#remove from last(-1),pop\n",
    "a=[\"apple\",\"ball\",\"cat\",\"dog\"]\n",
    "a.pop()\n",
    "print(a)"
   ]
  },
  {
   "cell_type": "code",
   "execution_count": 6,
   "metadata": {},
   "outputs": [
    {
     "name": "stdout",
     "output_type": "stream",
     "text": [
      "['ball', 'cat', 'dog']\n"
     ]
    }
   ],
   "source": [
    "#remove multiple \n",
    "a=[\"apple\",\"ball\",\"cat\",\"dog\",\"apple\"]\n",
    "for i in a:\n",
    "    if i==\"apple\":\n",
    "        a.remove(\"apple\")\n",
    "print(a)"
   ]
  },
  {
   "cell_type": "code",
   "execution_count": 7,
   "metadata": {},
   "outputs": [
    {
     "name": "stdout",
     "output_type": "stream",
     "text": [
      "ball\n",
      "['apple', 'cat', 'dog']\n"
     ]
    }
   ],
   "source": [
    "#use of pop \n",
    "a=[\"apple\",\"ball\",\"cat\",\"dog\"]\n",
    "b=a.pop(1)\n",
    "print(b)\n",
    "print(a)"
   ]
  },
  {
   "cell_type": "code",
   "execution_count": 8,
   "metadata": {},
   "outputs": [
    {
     "name": "stdout",
     "output_type": "stream",
     "text": [
      "['ant', 'ball', 'cat', 'dog']\n"
     ]
    }
   ],
   "source": [
    "#edit\n",
    "a=[\"apple\",\"ball\",\"cat\",\"dog\"]\n",
    "a[0]=\"ant\"\n",
    "print(a)"
   ]
  },
  {
   "cell_type": "code",
   "execution_count": 12,
   "metadata": {},
   "outputs": [
    {
     "name": "stdout",
     "output_type": "stream",
     "text": [
      "[1, 2, 3, 'dog']\n"
     ]
    }
   ],
   "source": [
    "#edit multiple\n",
    "a=[\"apple\",\"ball\",\"cat\",\"dog\"]\n",
    "a[0:3]=[1,2,3]\n",
    "print(a)"
   ]
  },
  {
   "cell_type": "code",
   "execution_count": 15,
   "metadata": {},
   "outputs": [
    {
     "name": "stdout",
     "output_type": "stream",
     "text": [
      "[1, 2, 3, 'ball', 'cat', 'dog']\n"
     ]
    }
   ],
   "source": [
    "#edit multiple\n",
    "a=[\"apple\",\"ball\",\"cat\",\"dog\"]\n",
    "a[0:1]=[1,2,3]\n",
    "print(a)"
   ]
  },
  {
   "cell_type": "code",
   "execution_count": 16,
   "metadata": {},
   "outputs": [
    {
     "name": "stdout",
     "output_type": "stream",
     "text": [
      "['ant', 'apple', 'ball', 'cat', 'dog']\n"
     ]
    }
   ],
   "source": [
    "#insert\n",
    "a=[\"apple\",\"ball\",\"cat\",\"dog\"]\n",
    "a.insert(0,\"ant\")\n",
    "print(a)"
   ]
  },
  {
   "cell_type": "code",
   "execution_count": 21,
   "metadata": {},
   "outputs": [
    {
     "name": "stdout",
     "output_type": "stream",
     "text": [
      "['apple', 'ball', 'cat', 'dog', 'J']\n"
     ]
    }
   ],
   "source": [
    "#to add only one element\n",
    "a=[\"apple\",\"ball\",\"cat\",\"dog\"]\n",
    "a.extend(\"J\")\n",
    "print(a)"
   ]
  },
  {
   "cell_type": "code",
   "execution_count": 48,
   "metadata": {},
   "outputs": [
    {
     "name": "stdout",
     "output_type": "stream",
     "text": [
      "['ball', 'cat', 'dog', 'apple', 'apple', 'apple', 'apple']\n",
      "['ball', 'cat', 'dog', 'apple', 'apple', 'apple']\n",
      "['ball', 'cat', 'dog', 'apple', 'apple']\n"
     ]
    }
   ],
   "source": [
    "a=[\"apple\",\"ball\",\"cat\",\"dog\",\"apple\",\"apple\",\"apple\",\"apple\"]\n",
    "for i in a:\n",
    "    if i==\"apple\":\n",
    "        a.remove(\"apple\")\n",
    "        print(a)"
   ]
  },
  {
   "cell_type": "code",
   "execution_count": 51,
   "metadata": {},
   "outputs": [
    {
     "name": "stdout",
     "output_type": "stream",
     "text": [
      "['ball', 'cat', 'dog']\n"
     ]
    }
   ],
   "source": [
    "b=[]\n",
    "a=[\"apple\",\"ball\",\"cat\",\"dog\",\"apple\",\"apple\",\"apple\",\"apple\"]\n",
    "\n",
    "for i in range(len(a)):\n",
    "    if a[i] !=\"apple\":\n",
    "        b.append(a[i])\n",
    "print(b)"
   ]
  },
  {
   "cell_type": "code",
   "execution_count": 57,
   "metadata": {},
   "outputs": [
    {
     "name": "stdout",
     "output_type": "stream",
     "text": [
      "[[1, 2], [3, 4], [], [], []]\n",
      "<class 'list'>\n",
      "5\n"
     ]
    }
   ],
   "source": [
    "a=[[],[],[],[],[]]\n",
    "print(a)\n",
    "print(type(a))\n",
    "print(len(a))"
   ]
  },
  {
   "cell_type": "code",
   "execution_count": 58,
   "metadata": {},
   "outputs": [
    {
     "data": {
      "text/plain": [
       "[1, 2, 3]"
      ]
     },
     "execution_count": 58,
     "metadata": {},
     "output_type": "execute_result"
    }
   ],
   "source": [
    "a=[[1,2,3],\n",
    "   [2,3,4],\n",
    "   [6,7]]\n",
    "a[0]"
   ]
  },
  {
   "cell_type": "code",
   "execution_count": 59,
   "metadata": {},
   "outputs": [
    {
     "data": {
      "text/plain": [
       "3"
      ]
     },
     "execution_count": 59,
     "metadata": {},
     "output_type": "execute_result"
    }
   ],
   "source": [
    "a=[[1,2,3],\n",
    "   [2,3,4],\n",
    "   [6,7]]\n",
    "a[0][2]"
   ]
  },
  {
   "cell_type": "code",
   "execution_count": 70,
   "metadata": {},
   "outputs": [
    {
     "name": "stdout",
     "output_type": "stream",
     "text": [
      "enter n=1\n",
      "enter name=ram\n",
      "enter phone=911\n",
      "[['ram', 911]]\n"
     ]
    }
   ],
   "source": [
    "data=[]\n",
    "n=(int(input(\"enter n=\")))\n",
    "for i in range(n):\n",
    "   name=input(\"enter name=\")\n",
    "   phone=int(input(\"enter phone=\"))\n",
    "   info=[name,phone]\n",
    "   data.append(info)\n",
    "   \n",
    "print(data)"
   ]
  },
  {
   "cell_type": "code",
   "execution_count": null,
   "metadata": {},
   "outputs": [],
   "source": [
    "# y=[]\n",
    "# data=s.split('\\n')[0:-1]\n",
    "# for i in data:\n",
    "#     x=i.split('--')\n",
    "#     y.append(x)\n",
    "# print(y)"
   ]
  },
  {
   "cell_type": "code",
   "execution_count": 3,
   "metadata": {},
   "outputs": [
    {
     "ename": "SyntaxError",
     "evalue": "invalid syntax (<ipython-input-3-2bee87982f1a>, line 4)",
     "output_type": "error",
     "traceback": [
      "\u001b[1;36m  File \u001b[1;32m\"<ipython-input-3-2bee87982f1a>\"\u001b[1;36m, line \u001b[1;32m4\u001b[0m\n\u001b[1;33m    if name.lower() in i[0]\u001b[0m\n\u001b[1;37m                           ^\u001b[0m\n\u001b[1;31mSyntaxError\u001b[0m\u001b[1;31m:\u001b[0m invalid syntax\n"
     ]
    }
   ],
   "source": [
    "a=[[\"ram\",9898],[\"shyam\",9895]]\n",
    "name=input(\"enter=\")\n",
    "for i in a:\n",
    "    if name.lower() in i[0]\n",
    "print(i)"
   ]
  }
 ],
 "metadata": {
  "kernelspec": {
   "display_name": "Python 3",
   "language": "python",
   "name": "python3"
  },
  "language_info": {
   "codemirror_mode": {
    "name": "ipython",
    "version": 3
   },
   "file_extension": ".py",
   "mimetype": "text/x-python",
   "name": "python",
   "nbconvert_exporter": "python",
   "pygments_lexer": "ipython3",
   "version": "3.8.5"
  }
 },
 "nbformat": 4,
 "nbformat_minor": 4
}
