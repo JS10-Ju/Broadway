{
 "cells": [
  {
   "cell_type": "code",
   "execution_count": null,
   "metadata": {},
   "outputs": [],
   "source": [
    "# # concept called (DRY):- Don't Repeat Yourself\n",
    "# It follows basic principles like:-\n",
    "#     inheritance\n",
    "#     Encapsulation\n",
    "#     Polymorphism\n",
    "#__init__\n",
    "#__str__\n",
    "#__repr__"
   ]
  },
  {
   "cell_type": "code",
   "execution_count": 4,
   "metadata": {},
   "outputs": [
    {
     "name": "stdout",
     "output_type": "stream",
     "text": [
      "hello world\n"
     ]
    }
   ],
   "source": [
    "class hello:\n",
    "    print(\"hello world\")\n",
    "\n",
    "obj=hello()\n",
    "# hello()"
   ]
  },
  {
   "cell_type": "code",
   "execution_count": 4,
   "metadata": {},
   "outputs": [
    {
     "name": "stdout",
     "output_type": "stream",
     "text": [
      "hello world\n"
     ]
    }
   ],
   "source": [
    "class hello:\n",
    "    def Hello(self):\n",
    "        print(\"hello world\")\n",
    "obj=hello()\n",
    "obj.Hello()"
   ]
  },
  {
   "cell_type": "code",
   "execution_count": 5,
   "metadata": {},
   "outputs": [
    {
     "name": "stdout",
     "output_type": "stream",
     "text": [
      "hello world\n"
     ]
    }
   ],
   "source": [
    "class hello:\n",
    "    def Hello(sehhh):\n",
    "        print(\"hello world\")\n",
    "obj=hello()\n",
    "obj.Hello()"
   ]
  },
  {
   "cell_type": "code",
   "execution_count": 6,
   "metadata": {},
   "outputs": [
    {
     "name": "stdout",
     "output_type": "stream",
     "text": [
      "hello world\n"
     ]
    }
   ],
   "source": [
    "class hello:\n",
    "    def Hello(self,y):\n",
    "        print(y)\n",
    "obj=hello()\n",
    "obj.Hello(\"hello world\")"
   ]
  },
  {
   "cell_type": "code",
   "execution_count": 11,
   "metadata": {},
   "outputs": [
    {
     "name": "stdout",
     "output_type": "stream",
     "text": [
      "enter l=10\n",
      "enter b=5\n",
      "enter h=4\n",
      "the area is 50\n",
      "the volume is 200\n"
     ]
    }
   ],
   "source": [
    "class cal():\n",
    "    def area(self,l,b):\n",
    "        a=l*b\n",
    "        print(\"the area is\",a)\n",
    "    def volume(self,l,b,h):\n",
    "        v=l*b*h\n",
    "        print(\"the volume is\",v)\n",
    "l=int(input(\"enter l=\"))\n",
    "b=int(input(\"enter b=\"))\n",
    "h=int(input(\"enter h=\"))\n",
    "obj=cal()\n",
    "obj.area(l,b)\n",
    "obj.volume(l,b,h)"
   ]
  },
  {
   "cell_type": "code",
   "execution_count": 10,
   "metadata": {},
   "outputs": [
    {
     "name": "stdout",
     "output_type": "stream",
     "text": [
      "enter l=10\n",
      "enter b=5\n",
      "enter h=4\n",
      "the area is 50\n",
      "the volume is 200\n"
     ]
    }
   ],
   "source": [
    "class cal:\n",
    "    def __init__(self,l,b,h):\n",
    "        self.x=l\n",
    "        self.y=b\n",
    "        self.z=h\n",
    "    def area(self):\n",
    "        a=self.x*self.y\n",
    "        print(\"the area is\",a)\n",
    "    def volume(hi):\n",
    "        v=hi.x*hi.y*hi.z\n",
    "        print(\"the volume is\",v)\n",
    "l=int(input(\"enter l=\"))\n",
    "b=int(input(\"enter b=\"))\n",
    "h=int(input(\"enter h=\"))\n",
    "obj=cal(l,b,h)\n",
    "obj.area()\n",
    "obj.volume()"
   ]
  },
  {
   "cell_type": "code",
   "execution_count": 16,
   "metadata": {},
   "outputs": [
    {
     "name": "stdout",
     "output_type": "stream",
     "text": [
      "enter l=10\n",
      "enter b=4\n",
      "enter h=5\n",
      "the area is 40\n",
      "the volume is 200\n"
     ]
    }
   ],
   "source": [
    "#__init__\n",
    "class cal:\n",
    "    def __init__(self,l,b):\n",
    "        self.x=l\n",
    "        self.y=b\n",
    "    def area(self):\n",
    "        a=self.x*self.y\n",
    "        print(\"the area is\",a)\n",
    "class Volume:\n",
    "    def __init__(self,l,b,h):\n",
    "        self.x=l\n",
    "        self.y=b\n",
    "        self.z=h\n",
    "    def volume(hi):\n",
    "        v=hi.x*hi.y*hi.z\n",
    "        print(\"the volume is\",v)\n",
    "l=int(input(\"enter l=\"))\n",
    "b=int(input(\"enter b=\"))\n",
    "h=int(input(\"enter h=\"))\n",
    "obj=cal(l,b)\n",
    "obj1=Volume(l,b,h)\n",
    "obj.area()\n",
    "obj1.volume()"
   ]
  },
  {
   "cell_type": "code",
   "execution_count": 20,
   "metadata": {},
   "outputs": [
    {
     "name": "stdout",
     "output_type": "stream",
     "text": [
      "shyam\n"
     ]
    }
   ],
   "source": [
    "#__str__\n",
    "class info:\n",
    "    def __init__(self,name,age,add): \n",
    "        self.name=name\n",
    "        self.age=age\n",
    "        self.add=add\n",
    "    def __str__(self):\n",
    "        return self.name\n",
    "name=\"shyam\"\n",
    "age=40\n",
    "add=\"bkt\"\n",
    "obj=info(name,age,add)\n",
    "print(obj)"
   ]
  },
  {
   "cell_type": "code",
   "execution_count": 23,
   "metadata": {},
   "outputs": [
    {
     "name": "stdout",
     "output_type": "stream",
     "text": [
      "<__main__.info object at 0x000001B0B08BE730>\n"
     ]
    }
   ],
   "source": [
    "#__repr__\n",
    "def __init__(self,name,age,add):\n",
    "    self.name=name\n",
    "    self.age=age\n",
    "    self.add=add\n",
    "def __repr__(self):\n",
    "    return {\"name\":self.name,\"add\":self.add}\n",
    "name=\"shyam\"\n",
    "age=40\n",
    "add=\"bkt\"\n",
    "obj=info(name,age,add)\n",
    "\n",
    "print(obj.__repr__())"
   ]
  },
  {
   "cell_type": "code",
   "execution_count": null,
   "metadata": {},
   "outputs": [],
   "source": []
  }
 ],
 "metadata": {
  "kernelspec": {
   "display_name": "Python 3",
   "language": "python",
   "name": "python3"
  },
  "language_info": {
   "codemirror_mode": {
    "name": "ipython",
    "version": 3
   },
   "file_extension": ".py",
   "mimetype": "text/x-python",
   "name": "python",
   "nbconvert_exporter": "python",
   "pygments_lexer": "ipython3",
   "version": "3.8.5"
  }
 },
 "nbformat": 4,
 "nbformat_minor": 4
}
