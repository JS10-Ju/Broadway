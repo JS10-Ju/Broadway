{
 "cells": [
  {
   "cell_type": "code",
   "execution_count": 1,
   "metadata": {},
   "outputs": [
    {
     "data": {
      "text/plain": [
       "'apple'"
      ]
     },
     "execution_count": 1,
     "metadata": {},
     "output_type": "execute_result"
    }
   ],
   "source": [
    "b=[\"apple\",\"ball\",\"cat\"]\n",
    "b[0]"
   ]
  },
  {
   "cell_type": "code",
   "execution_count": null,
   "metadata": {},
   "outputs": [],
   "source": [
    "# list\n",
    "# mutable\n"
   ]
  },
  {
   "cell_type": "code",
   "execution_count": 4,
   "metadata": {},
   "outputs": [
    {
     "data": {
      "text/plain": [
       "'cat'"
      ]
     },
     "execution_count": 4,
     "metadata": {},
     "output_type": "execute_result"
    }
   ],
   "source": [
    "b=[\"apple\",\"ball\",\"cat\"]\n",
    "b[-1]"
   ]
  },
  {
   "cell_type": "code",
   "execution_count": 7,
   "metadata": {},
   "outputs": [
    {
     "data": {
      "text/plain": [
       "['apple', 'cat', 2]"
      ]
     },
     "execution_count": 7,
     "metadata": {},
     "output_type": "execute_result"
    }
   ],
   "source": [
    "b=[\"apple\",\"ball\",\"cat\",1,2,3,4]\n",
    "b[0:5:2]"
   ]
  },
  {
   "cell_type": "code",
   "execution_count": 8,
   "metadata": {},
   "outputs": [
    {
     "data": {
      "text/plain": [
       "'a'"
      ]
     },
     "execution_count": 8,
     "metadata": {},
     "output_type": "execute_result"
    }
   ],
   "source": [
    "#multi dimensional\n",
    "b=[\"apple\",\"ball\",\"cat\",1,2,3,4]\n",
    "b[0][0]"
   ]
  },
  {
   "cell_type": "code",
   "execution_count": 10,
   "metadata": {},
   "outputs": [
    {
     "data": {
      "text/plain": [
       "[4, 3, 2, 1, 'cat', 'ball', 'apple']"
      ]
     },
     "execution_count": 10,
     "metadata": {},
     "output_type": "execute_result"
    }
   ],
   "source": [
    "#print from reverse\n",
    "b=[\"apple\",\"ball\",\"cat\",1,2,3,4]\n",
    "b[6::-1]"
   ]
  },
  {
   "cell_type": "code",
   "execution_count": 11,
   "metadata": {},
   "outputs": [
    {
     "data": {
      "text/plain": [
       "['apple', 'ball']"
      ]
     },
     "execution_count": 11,
     "metadata": {},
     "output_type": "execute_result"
    }
   ],
   "source": [
    "a=[\"apple\"]\n",
    "b=[\"ball\"]\n",
    "a+b"
   ]
  },
  {
   "cell_type": "code",
   "execution_count": 12,
   "metadata": {},
   "outputs": [
    {
     "data": {
      "text/plain": [
       "['ball', 'apple']"
      ]
     },
     "execution_count": 12,
     "metadata": {},
     "output_type": "execute_result"
    }
   ],
   "source": [
    "b=[\"ball\"]\n",
    "a=[\"apple\"]\n",
    "b+a\n"
   ]
  },
  {
   "cell_type": "code",
   "execution_count": 13,
   "metadata": {},
   "outputs": [
    {
     "name": "stdout",
     "output_type": "stream",
     "text": [
      "['apple', 'apple']\n"
     ]
    }
   ],
   "source": [
    "a=[\"apple\"]\n",
    "print(a*2)"
   ]
  },
  {
   "cell_type": "code",
   "execution_count": 14,
   "metadata": {},
   "outputs": [
    {
     "name": "stdout",
     "output_type": "stream",
     "text": [
      "['Aeroplane', 'ball', 'cat', 1, 2, 3, 4]\n"
     ]
    }
   ],
   "source": [
    "b=[\"apple\",\"ball\",\"cat\",1,2,3,4]\n",
    "b[0]=\"Aeroplane\"\n",
    "print(b)"
   ]
  },
  {
   "cell_type": "code",
   "execution_count": 16,
   "metadata": {},
   "outputs": [
    {
     "name": "stdout",
     "output_type": "stream",
     "text": [
      "enter n=2\n",
      "enter num10\n",
      "enter num10\n",
      "[10, 10]\n"
     ]
    }
   ],
   "source": [
    "s=[]\n",
    "n=int(input(\"enter n=\"))\n",
    "for i in range(n):\n",
    "    x=int(input(\"enter num\"))\n",
    "    s=s+[x]\n",
    "print(s)"
   ]
  },
  {
   "cell_type": "code",
   "execution_count": 17,
   "metadata": {},
   "outputs": [
    {
     "name": "stdout",
     "output_type": "stream",
     "text": [
      "enter n=2\n",
      "enter nameram\n",
      "enter nameshyam\n",
      "['ram', 'shyam']\n"
     ]
    }
   ],
   "source": [
    "s=[]\n",
    "n=int(input(\"enter n=\"))\n",
    "for i in range(n):\n",
    "    x=(input(\"enter name\"))\n",
    "    s=s+[x]\n",
    "print(s)\n",
    "    "
   ]
  },
  {
   "cell_type": "code",
   "execution_count": 18,
   "metadata": {},
   "outputs": [
    {
     "name": "stdout",
     "output_type": "stream",
     "text": [
      "['ram', 'shyam']\n",
      "['ram', 'shyam']\n"
     ]
    }
   ],
   "source": [
    "for i in s:\n",
    "    print(s)"
   ]
  },
  {
   "cell_type": "code",
   "execution_count": 20,
   "metadata": {},
   "outputs": [
    {
     "name": "stdout",
     "output_type": "stream",
     "text": [
      "apple\n",
      "ball\n",
      "cat\n"
     ]
    }
   ],
   "source": [
    "a=[\"apple\",\"ball\",\"cat\"]\n",
    "n=len(a)\n",
    "for i in range(n):\n",
    "    print(a[i])"
   ]
  },
  {
   "cell_type": "code",
   "execution_count": 23,
   "metadata": {},
   "outputs": [
    {
     "name": "stdout",
     "output_type": "stream",
     "text": [
      "yes <built-in method count of list object at 0x000001E0F08E2EC0>\n"
     ]
    }
   ],
   "source": [
    "a=[\"apple\",\"ball\",\"cat\"]\n",
    "if \"apple\" in a:\n",
    "    print(\"yes\",a.count)\n",
    "else:\n",
    "    (\"no\")"
   ]
  },
  {
   "cell_type": "code",
   "execution_count": 28,
   "metadata": {},
   "outputs": [
    {
     "name": "stdout",
     "output_type": "stream",
     "text": [
      "0\n",
      "3\n",
      "[0, 3]\n"
     ]
    }
   ],
   "source": [
    "#caps handa ni aaune banaunu paryo assignment\n",
    "index=[]\n",
    "s=['apple','ball','cat',\"apple\"]\n",
    "n=len(s)\n",
    "for i in range(n):\n",
    "    if s[i]==\"apple\":\n",
    "        print(i)\n",
    "        index=index+[i]\n",
    "print(index)"
   ]
  },
  {
   "cell_type": "code",
   "execution_count": 29,
   "metadata": {},
   "outputs": [
    {
     "name": "stdout",
     "output_type": "stream",
     "text": [
      "['ball']\n"
     ]
    }
   ],
   "source": [
    "#append\n",
    "a=[]\n",
    "b=\"ball\"\n",
    "a.append(b)\n",
    "print (a)"
   ]
  },
  {
   "cell_type": "code",
   "execution_count": 30,
   "metadata": {},
   "outputs": [
    {
     "name": "stdout",
     "output_type": "stream",
     "text": [
      "enter num=2\n",
      "emter nameram\n",
      "emter namehari\n",
      "['ram', 'hari']\n"
     ]
    }
   ],
   "source": [
    "#use of append\n",
    "s=[]\n",
    "n=int(input(\"enter num=\"))\n",
    "for i in range (n):\n",
    "    x=(input(\"emter name\"))\n",
    "    s.append(x)\n",
    "print(s)"
   ]
  },
  {
   "cell_type": "code",
   "execution_count": 32,
   "metadata": {},
   "outputs": [
    {
     "name": "stdout",
     "output_type": "stream",
     "text": [
      "enter num=2\n",
      "emnter num10\n",
      "emnter num15\n",
      "[10, 15]\n"
     ]
    }
   ],
   "source": [
    "#use of append\n",
    "s=[]\n",
    "n=int(input(\"enter num=\"))\n",
    "for i in range (n):\n",
    "    x=int(input(\"emnter num\"))\n",
    "    s.append(x)\n",
    "print(s)"
   ]
  },
  {
   "cell_type": "code",
   "execution_count": 33,
   "metadata": {},
   "outputs": [
    {
     "name": "stdout",
     "output_type": "stream",
     "text": [
      "enter num=2\n",
      "emnter num10\n",
      "emnter num50\n",
      "the list is [10, 50]\n",
      "the sum is 60\n",
      "the max is 50\n",
      "the min is 10\n",
      "the avg is 30.0\n"
     ]
    }
   ],
   "source": [
    "#use of append\n",
    "s=[]\n",
    "n=int(input(\"enter num=\"))\n",
    "for i in range (n):\n",
    "    x=int(input(\"emnter num\"))\n",
    "    s.append(x)\n",
    "print(\"the list is\",s)\n",
    "print(\"the sum is\",sum(s))\n",
    "print(\"the max is\",max(s))\n",
    "print(\"the min is\",min(s))\n",
    "print(\"the avg is\",sum(s)/n)"
   ]
  },
  {
   "cell_type": "code",
   "execution_count": 34,
   "metadata": {},
   "outputs": [
    {
     "data": {
      "text/plain": [
       "['apple', 'cat', 'mouse', 'rat', 'zebra']"
      ]
     },
     "execution_count": 34,
     "metadata": {},
     "output_type": "execute_result"
    }
   ],
   "source": [
    "#for alphabetical order\n",
    "a=[\"ant\",\"zebra\",\"mouse\",\"cat\",\"rat\"]\n",
    "a.sort()\n",
    "a"
   ]
  },
  {
   "cell_type": "code",
   "execution_count": 35,
   "metadata": {},
   "outputs": [
    {
     "name": "stdout",
     "output_type": "stream",
     "text": [
      "['ant', 'cat', 'mouse', 'rat', 'zebra']\n"
     ]
    },
    {
     "data": {
      "text/plain": [
       "['ant', 'zebra', 'mouse', 'cat', 'rat']"
      ]
     },
     "execution_count": 35,
     "metadata": {},
     "output_type": "execute_result"
    }
   ],
   "source": [
    "a=[\"ant\",\"zebra\",\"mouse\",\"cat\",\"rat\"]\n",
    "print(sorted(a))\n",
    "a"
   ]
  },
  {
   "cell_type": "code",
   "execution_count": null,
   "metadata": {},
   "outputs": [],
   "source": [
    "#index"
   ]
  },
  {
   "cell_type": "code",
   "execution_count": 4,
   "metadata": {},
   "outputs": [
    {
     "ename": "AttributeError",
     "evalue": "'list' object has no attribute 'lower'",
     "output_type": "error",
     "traceback": [
      "\u001b[1;31m---------------------------------------------------------------------------\u001b[0m",
      "\u001b[1;31mAttributeError\u001b[0m                            Traceback (most recent call last)",
      "\u001b[1;32m<ipython-input-4-2feadd29051e>\u001b[0m in \u001b[0;36m<module>\u001b[1;34m\u001b[0m\n\u001b[0;32m      1\u001b[0m \u001b[0ma\u001b[0m\u001b[1;33m=\u001b[0m\u001b[1;33m[\u001b[0m\u001b[1;34m\"Ant\"\u001b[0m\u001b[1;33m,\u001b[0m\u001b[1;34m\"Zebra\"\u001b[0m\u001b[1;33m,\u001b[0m\u001b[1;34m\"mouse\"\u001b[0m\u001b[1;33m,\u001b[0m\u001b[1;34m\"cat\"\u001b[0m\u001b[1;33m,\u001b[0m\u001b[1;34m\"rat\"\u001b[0m\u001b[1;33m]\u001b[0m\u001b[1;33m\u001b[0m\u001b[1;33m\u001b[0m\u001b[0m\n\u001b[1;32m----> 2\u001b[1;33m \u001b[0mprint\u001b[0m\u001b[1;33m(\u001b[0m\u001b[0ma\u001b[0m\u001b[1;33m.\u001b[0m\u001b[0mlower\u001b[0m\u001b[1;33m(\u001b[0m\u001b[1;33m)\u001b[0m\u001b[1;33m)\u001b[0m\u001b[1;33m\u001b[0m\u001b[1;33m\u001b[0m\u001b[0m\n\u001b[0m\u001b[0;32m      3\u001b[0m \u001b[1;33m\u001b[0m\u001b[0m\n",
      "\u001b[1;31mAttributeError\u001b[0m: 'list' object has no attribute 'lower'"
     ]
    }
   ],
   "source": [
    "a=[\"Ant\",\"Zebra\",\"mouse\",\"cat\",\"rat\"]\n",
    "print(a.lower())\n",
    "   "
   ]
  }
 ],
 "metadata": {
  "kernelspec": {
   "display_name": "Python 3",
   "language": "python",
   "name": "python3"
  },
  "language_info": {
   "codemirror_mode": {
    "name": "ipython",
    "version": 3
   },
   "file_extension": ".py",
   "mimetype": "text/x-python",
   "name": "python",
   "nbconvert_exporter": "python",
   "pygments_lexer": "ipython3",
   "version": "3.8.5"
  }
 },
 "nbformat": 4,
 "nbformat_minor": 4
}
