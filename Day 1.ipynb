{
 "cells": [
  {
   "cell_type": "code",
   "execution_count": 2,
   "metadata": {},
   "outputs": [
    {
     "name": "stdout",
     "output_type": "stream",
     "text": [
      "20.0\n"
     ]
    }
   ],
   "source": [
    "#to calculate interest\n",
    "p=100\n",
    "t=2\n",
    "r=10\n",
    "i=p*t*r/100\n",
    "print(i)"
   ]
  },
  {
   "cell_type": "code",
   "execution_count": 6,
   "metadata": {},
   "outputs": [
    {
     "name": "stdout",
     "output_type": "stream",
     "text": [
      "enter p= 500\n",
      "enter t= 100\n",
      "enter r= 10\n",
      "the interest is 5000.0\n"
     ]
    }
   ],
   "source": [
    "#Calculate interest\n",
    "p=int(input(\"enter p= \"))\n",
    "t=int(input(\"enter t= \"))\n",
    "r=int(input(\"enter r= \"))\n",
    "i= p*t*r/100\n",
    "print(\"the interest is\",i)"
   ]
  },
  {
   "cell_type": "code",
   "execution_count": 4,
   "metadata": {},
   "outputs": [
    {
     "name": "stdout",
     "output_type": "stream",
     "text": [
      "enter p =100\n",
      "enter t =2\n",
      "enter r =10\n",
      "the interest is 20.0\n"
     ]
    }
   ],
   "source": [
    "#to calculate interest acc. to user\n",
    "p=int(input(\"enter p =\"))\n",
    "t=int(input(\"enter t =\"))\n",
    "r=int(input(\"enter r =\"))\n",
    "i=p*t*r/100\n",
    "print(\"the interest is\", i)\n"
   ]
  },
  {
   "cell_type": "code",
   "execution_count": 7,
   "metadata": {},
   "outputs": [
    {
     "name": "stdout",
     "output_type": "stream",
     "text": [
      "<class 'int'>\n"
     ]
    }
   ],
   "source": [
    "#check datatype\n",
    "a=100\n",
    "print(type(a))"
   ]
  },
  {
   "cell_type": "code",
   "execution_count": 7,
   "metadata": {},
   "outputs": [
    {
     "name": "stdout",
     "output_type": "stream",
     "text": [
      "<class 'int'>\n"
     ]
    }
   ],
   "source": [
    "#check datatype\n",
    "a=50\n",
    "print(type(a))"
   ]
  },
  {
   "cell_type": "code",
   "execution_count": 1,
   "metadata": {},
   "outputs": [
    {
     "data": {
      "text/plain": [
       "'hello worldhello world'"
      ]
     },
     "execution_count": 1,
     "metadata": {},
     "output_type": "execute_result"
    }
   ],
   "source": [
    "#string * int\n",
    "a=\"hello world\"\n",
    "b=2\n",
    "a*b"
   ]
  },
  {
   "cell_type": "code",
   "execution_count": 17,
   "metadata": {},
   "outputs": [
    {
     "ename": "SyntaxError",
     "evalue": "unexpected character after line continuation character (<ipython-input-17-476e797f88a1>, line 4)",
     "output_type": "error",
     "traceback": [
      "\u001b[1;36m  File \u001b[1;32m\"<ipython-input-17-476e797f88a1>\"\u001b[1;36m, line \u001b[1;32m4\u001b[0m\n\u001b[1;33m    print(b*a),\\n\u001b[0m\n\u001b[1;37m                 ^\u001b[0m\n\u001b[1;31mSyntaxError\u001b[0m\u001b[1;31m:\u001b[0m unexpected character after line continuation character\n"
     ]
    }
   ],
   "source": [
    "#print string datatype more times\n",
    "a=\"hello world\"\n",
    "b=5\n",
    "print(b*a),\\n"
   ]
  },
  {
   "cell_type": "code",
   "execution_count": 2,
   "metadata": {},
   "outputs": [
    {
     "name": "stdout",
     "output_type": "stream",
     "text": [
      "enter your name =ram\n",
      "enter your age =20\n",
      "enter your address= ktm\n",
      "hello my name is rami am fromktmi am 20years old\n"
     ]
    }
   ],
   "source": [
    "#string\n",
    "name=input(\"enter your name =\")\n",
    "age= int(input(\"enter your age =\"))\n",
    "add=input(\"enter your address= \")\n",
    "info=\"hello my name is \"+name+ \"i am from\" +add+ \"i am \"+ str(age)+ \"years old\"\n",
    "print(info)\n"
   ]
  },
  {
   "cell_type": "code",
   "execution_count": null,
   "metadata": {},
   "outputs": [
    {
     "name": "stdout",
     "output_type": "stream",
     "text": [
      "enter your name=ram\n"
     ]
    }
   ],
   "source": [
    "#string\n",
    "n=(input(\"enter your name=\"))\n",
    "a=(input(\"enter your address=\"))\n",
    "age=int(input(\"enter your age\"))\n",
    "info=\"my name is\" +n+\" \" \"i live in\"+a+ \" \"\"i am\" +str(age)+ \"years old\"\n",
    "print(info)"
   ]
  },
  {
   "cell_type": "code",
   "execution_count": null,
   "metadata": {},
   "outputs": [],
   "source": []
  }
 ],
 "metadata": {
  "kernelspec": {
   "display_name": "Python 3",
   "language": "python",
   "name": "python3"
  },
  "language_info": {
   "codemirror_mode": {
    "name": "ipython",
    "version": 3
   },
   "file_extension": ".py",
   "mimetype": "text/x-python",
   "name": "python",
   "nbconvert_exporter": "python",
   "pygments_lexer": "ipython3",
   "version": "3.8.5"
  }
 },
 "nbformat": 4,
 "nbformat_minor": 4
}
