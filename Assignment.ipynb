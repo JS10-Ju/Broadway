{
 "cells": [
  {
   "cell_type": "code",
   "execution_count": 3,
   "metadata": {},
   "outputs": [
    {
     "name": "stdout",
     "output_type": "stream",
     "text": [
      "Enter a first number:10\n",
      "Enter a second number:10\n",
      "Enter operator +,-,*,/+\n",
      "20.0\n"
     ]
    }
   ],
   "source": [
    "#basic calculator\n",
    "def calc():\n",
    "    a=float(input(\"Enter a first number:\"))\n",
    "    b=float(input(\"Enter a second number:\"))\n",
    "    o=(input(\"Enter operator +,-,*,/\"))\n",
    "    if o=='+':\n",
    "        print(a+b)\n",
    "    elif opt=='-':\n",
    "        print(a-b)\n",
    "    elif o=='*':\n",
    "        print(a*b)\n",
    "    elif opt=='/':\n",
    "        print(a/b)\n",
    "# elif opt=='pow':\n",
    "#     print(pow)\n",
    "    else:\n",
    "        print(\"invalid operator\")\n",
    "\n",
    "calc()\n",
    "    \n",
    "    "
   ]
  },
  {
   "cell_type": "code",
   "execution_count": 1,
   "metadata": {},
   "outputs": [
    {
     "name": "stdout",
     "output_type": "stream",
     "text": [
      "enter first number10\n",
      "enter second number10\n",
      "enter operator+\n",
      "the addition is 20.0\n"
     ]
    }
   ],
   "source": [
    "#basic calculator\n",
    "def Add(a,b):\n",
    "    return a+b\n",
    "\n",
    "def Substraction(a,b):\n",
    "    return a-b\n",
    "\n",
    "def Division(a,b):\n",
    "    return a/b\n",
    "\n",
    "def Multiplication(a,b):\n",
    "    return a*b\n",
    "\n",
    "def Power(a,b):\n",
    "    return pow(a,b)\n",
    "\n",
    "    print(\"Select operator\")\n",
    "    print(\"1.+\")\n",
    "    print(\"2.-\")\n",
    "    print(\"3./\")\n",
    "    print(\"4.*\")\n",
    "    print(\"5.**\")\n",
    "\n",
    "a=float(input(\"enter first number\"))\n",
    "b=float(input(\"enter second number\"))\n",
    "choice=input(\"enter operator\")\n",
    "\n",
    "if choice =='+':\n",
    "    print(\"the addition is\",Add(a,b))\n",
    "elif choice =='-':\n",
    "    print(\"the substraction is\",Substraction(a,b))\n",
    "elif choice =='/':\n",
    "    print(\"the division is\",Division(a,b))\n",
    "elif choice =='*':\n",
    "    print(\"the multiplication is\",Multiplication(a,b))\n",
    "elif choice =='**':\n",
    "    print(\"the power is\",pow(a,b))\n",
    "else:\n",
    "    print(\"invalid operator\")\n"
   ]
  },
  {
   "cell_type": "code",
   "execution_count": null,
   "metadata": {},
   "outputs": [],
   "source": [
    "#Calculator\n",
    "    a=float(input(\"enter first number=\"))\n",
    "    b=float(input(\"enter second number=\"))\n",
    "    o=(input(\"enter operator\"))\n",
    "    def interest():\n",
    "        if o=='+':\n",
    "            print(\"result is\",a+b)\n",
    "           # interest()\n",
    "        elif o=='-':\n",
    "            print(\"result is\",a-b)\n",
    "            #interest()\n",
    "        elif o=='*':\n",
    "            print(\"result is\",a*b)\n",
    "           # interest()\n",
    "        elif o=='/':\n",
    "            if a==0:\n",
    "                print(\"invalid\")\n",
    "            elif b==0:\n",
    "                print(\"invalid\")\n",
    "            else:\n",
    "                print(\"result is\",a/b)\n",
    "                #interest()\n",
    "        elif o=='**':\n",
    "            print(\"result is\",a**b)\n",
    "            #interest()\n",
    "        elif o=='%':\n",
    "            print(\"The mod is\",(a%b))\n",
    "           # interest()\n",
    "        elif o=='//':\n",
    "            print(\"The floor division is\",(a//b))\n",
    "            #interest()\n",
    "        else:\n",
    "            print(\"invalid operator\")\n",
    "        \n",
    "interest()\n",
    "    "
   ]
  },
  {
   "cell_type": "code",
   "execution_count": 8,
   "metadata": {},
   "outputs": [
    {
     "name": "stdout",
     "output_type": "stream",
     "text": [
      "Enter a number10\n",
      "it is composite number\n"
     ]
    }
   ],
   "source": [
    "#check whether prime number or composite number\n",
    "#milena\n",
    "n=int(input(\"Enter a number\"))\n",
    "def prime():\n",
    "    if n>1:\n",
    "        if(n%2) ==0:\n",
    "            print(\"it is composite number\")\n",
    "        else:\n",
    "            print(\"it is prime number\")\n",
    "prime()"
   ]
  },
  {
   "cell_type": "code",
   "execution_count": 5,
   "metadata": {},
   "outputs": [
    {
     "name": "stdout",
     "output_type": "stream",
     "text": [
      "enter number =9\n",
      "9 is odd number\n"
     ]
    }
   ],
   "source": [
    "#check whether it's odd or even number\n",
    "n=int(input(\"enter number =\"))\n",
    "if n >=1:  \n",
    "    for i in range(2,n):\n",
    "        if(n%i) ==0:\n",
    "            print(n,\"is even number\")\n",
    "            break\n",
    "        else:\n",
    "            print(n,\"is odd number\")\n",
    "            break\n",
    "        "
   ]
  },
  {
   "cell_type": "code",
   "execution_count": null,
   "metadata": {},
   "outputs": [],
   "source": [
    "n=int(input(\"enter number =\"))\n",
    "        if n > 2:\n",
    "            for i in range(2,n//2+2):\n",
    "                if(n % i) ==0:\n",
    "                    print(n,\"is composite number\")\n",
    "                    break\n",
    "                    print(i,\"times\",n//i,\"is\",n)\n",
    "                    break    \n",
    "                else:\n",
    "                    print(n,\"is prime number\")\n",
    "                    break\n",
    "\n",
    "    else:\n",
    "        print(n,\"is prime number\")\n",
    "    \n",
    "    "
   ]
  },
  {
   "cell_type": "code",
   "execution_count": 4,
   "metadata": {},
   "outputs": [
    {
     "ename": "SyntaxError",
     "evalue": "invalid syntax (<ipython-input-4-4c14774c1c89>, line 23)",
     "output_type": "error",
     "traceback": [
      "\u001b[1;36m  File \u001b[1;32m\"<ipython-input-4-4c14774c1c89>\"\u001b[1;36m, line \u001b[1;32m23\u001b[0m\n\u001b[1;33m    else per<=40:\u001b[0m\n\u001b[1;37m         ^\u001b[0m\n\u001b[1;31mSyntaxError\u001b[0m\u001b[1;31m:\u001b[0m invalid syntax\n"
     ]
    }
   ],
   "source": [
    "#Result management system\n",
    "s=\"\"\n",
    "n=int(\"enter number =\")\n",
    "for i in range(n):\n",
    "    Name=input(\"Enter name=\")\n",
    "    p=input(\"Enter physics marks=\")\n",
    "    m=input(\"Enter math marks=\")\n",
    "    c=input(\"Enter chemistry marks=\")\n",
    "    e=input(\"Enter english marks=\")\n",
    "    co=input(\"enter computer mark=\")\n",
    "    ms=f\"{Name}--{p}--{m}--{c}--{e}--{co}\"\n",
    "    total=(p+m+c+e+c)\n",
    "    per= (total/5)*100\n",
    "    if per>=80:\n",
    "        print(\"Distinction\")\n",
    "        break\n",
    "    elif per>=60:\n",
    "        print(\"First Division\")\n",
    "        break\n",
    "    elif per>=40:\n",
    "        print(\"Second division\")\n",
    "        break\n",
    "    else per<=40:\n",
    "        print(\"fail\")\n",
    "s=s+ms+\n",
    "print(s)\n",
    "\n",
    "        \n",
    "    \n",
    "    \n"
   ]
  },
  {
   "cell_type": "code",
   "execution_count": 1,
   "metadata": {},
   "outputs": [
    {
     "name": "stdout",
     "output_type": "stream",
     "text": [
      "enter no. of student2\n",
      "enter name=ram\n",
      "enter Physics marks=50\n",
      "enter Chemistry marks=30\n",
      "enter English marks=60\n",
      "enter Nepali marks=40\n",
      "enter Computer marks=60\n",
      "your percentage is  48.0\n",
      "Second division\n",
      "enter name=shyam\n",
      "enter Physics marks=90\n",
      "enter Chemistry marks=70\n",
      "enter English marks=80\n",
      "enter Nepali marks=60\n",
      "enter Computer marks=80\n",
      "your percentage is  76.0\n",
      "First division\n"
     ]
    }
   ],
   "source": [
    "s=\"\"\n",
    "num=int(input(\"enter no. of student\"))\n",
    "for i in range(num):\n",
    "    name=(input(\"enter name=\"))\n",
    "    a=int(input(\"enter Physics marks=\"))\n",
    "    b=int(input(\"enter Chemistry marks=\"))\n",
    "    c=int(input(\"enter English marks=\"))\n",
    "    d=int(input(\"enter Nepali marks=\"))\n",
    "    e=int(input(\"enter Computer marks=\"))\n",
    "    per=(a+b+c+d+e)/500\n",
    "    percentage=per*100\n",
    "#     ms=f\"{name}{a}{b}{c}{d}{e}{percentage}\"\n",
    "#     ms=ms+s\n",
    "    print(\"your percentage is \",percentage)\n",
    "    if percentage >=80:\n",
    "        print(\"Distinction\")\n",
    "    elif percentage >=60:\n",
    "        print(\"First division\")\n",
    "    elif percentage >=40:\n",
    "        print(\"Second division\")\n",
    "    elif percentage<=39:\n",
    "        print(\"Sorry,Fail\")\n",
    "    print"
   ]
  },
  {
   "cell_type": "code",
   "execution_count": 4,
   "metadata": {},
   "outputs": [
    {
     "name": "stdout",
     "output_type": "stream",
     "text": [
      " Please enter English Marks: 60\n",
      " Please enter Math score: 50\n",
      " Please enter Computer Marks: 60\n",
      " Please enter Physics Marks: 40\n",
      " Please enter Chemistry Marks: 20\n",
      "Total Marks = 230.00\n",
      "Marks Percentage = 46.00\n",
      "E Grade\n"
     ]
    }
   ],
   "source": [
    "english = float(input(\" Enter English Marks= \"))\n",
    "physics = float(input(\" Enter Physics Marks= \"))\n",
    "math = float(input(\" Enter Math marks= \"))\n",
    "computers = float(input(\"Enter Computer Marks= \"))\n",
    "chemistry = float(input(\" Enter Chemistry Marks= \"))\n",
    "\n",
    "total = english + math + computers + physics + chemistry\n",
    "percentage = (total / 500) * 100\n",
    "\n",
    "print(\"Total Marks = %.2f\"  %total)\n",
    "print(\"Marks Percentage = %.2f\"  %percentage)\n",
    "\n",
    "if(percentage >= 90):\n",
    "    print(\"A Grade\")\n",
    "elif(percentage >= 80):\n",
    "    print(\"B Grade\")\n",
    "elif(percentage >= 70):\n",
    "    print(\"C Grade\")\n",
    "elif(percentage >= 60):\n",
    "    print(\"D Grade\")\n",
    "elif(percentage >= 40):\n",
    "    print(\"E Grade\")\n",
    "else:\n",
    "    print(\"Fail\")"
   ]
  },
  {
   "cell_type": "code",
   "execution_count": 6,
   "metadata": {},
   "outputs": [
    {
     "ename": "IndentationError",
     "evalue": "expected an indented block (<ipython-input-6-0c0a38133e35>, line 5)",
     "output_type": "error",
     "traceback": [
      "\u001b[1;36m  File \u001b[1;32m\"<ipython-input-6-0c0a38133e35>\"\u001b[1;36m, line \u001b[1;32m5\u001b[0m\n\u001b[1;33m    product = input(\"Enter name = \")\u001b[0m\n\u001b[1;37m    ^\u001b[0m\n\u001b[1;31mIndentationError\u001b[0m\u001b[1;31m:\u001b[0m expected an indented block\n"
     ]
    }
   ],
   "source": [
    "s = \"\"\n",
    "all_total = 0\n",
    "n = int(input(\"Enter n = \"))\n",
    "for i in range(n):\n",
    "product = input(\"Enter name = \")\n",
    "price = int(input(\"Enter price = \"))\n",
    "quantity = int(input(\"Enter quantity \"))\n",
    "total = price*quantity\n",
    "data = f\"{product} {price} {quantity} {total}\\n\"\n",
    "all_total = all_total+total\n",
    "s = s+data\n",
    "\n",
    "print(\"The billing is = \\n\",s)\n",
    "print(\"The total = \",all_total)"
   ]
  },
  {
   "cell_type": "code",
   "execution_count": 5,
   "metadata": {},
   "outputs": [
    {
     "name": "stdout",
     "output_type": "stream",
     "text": [
      "[]\n"
     ]
    }
   ],
   "source": [
    "#caps handa ni aaune banaunu paryo assignment\n",
    "index=[]\n",
    "s=['apple','ball','cat',\"apple\"]\n",
    "list=[x.lower()for x in s]\n",
    "n=len(s)\n",
    "for i in range(n):\n",
    "    if [i]==\"apple\":\n",
    "        print()\n",
    "        index=index+[i]\n",
    "print(index)"
   ]
  },
  {
   "cell_type": "code",
   "execution_count": 3,
   "metadata": {},
   "outputs": [
    {
     "name": "stdout",
     "output_type": "stream",
     "text": [
      "['apple', 'ball', 'cat', 'apple']\n"
     ]
    }
   ],
   "source": [
    "s=['Apple','Ball','cat',\"aPPle\"]\n",
    "list=[x.lower()for x in s]\n",
    "print(list)"
   ]
  },
  {
   "cell_type": "code",
   "execution_count": 6,
   "metadata": {},
   "outputs": [
    {
     "ename": "TypeError",
     "evalue": "list indices must be integers or slices, not list",
     "output_type": "error",
     "traceback": [
      "\u001b[1;31m---------------------------------------------------------------------------\u001b[0m",
      "\u001b[1;31mTypeError\u001b[0m                                 Traceback (most recent call last)",
      "\u001b[1;32m<ipython-input-6-3b3bf597e5ad>\u001b[0m in \u001b[0;36m<module>\u001b[1;34m\u001b[0m\n\u001b[0;32m      4\u001b[0m \u001b[0mn\u001b[0m \u001b[1;33m=\u001b[0m \u001b[0mlen\u001b[0m\u001b[1;33m(\u001b[0m\u001b[0ms\u001b[0m\u001b[1;33m)\u001b[0m\u001b[1;33m\u001b[0m\u001b[1;33m\u001b[0m\u001b[0m\n\u001b[0;32m      5\u001b[0m \u001b[1;32mfor\u001b[0m  \u001b[0mi\u001b[0m \u001b[1;32min\u001b[0m \u001b[0mrange\u001b[0m\u001b[1;33m(\u001b[0m\u001b[0mn\u001b[0m\u001b[1;33m)\u001b[0m\u001b[1;33m:\u001b[0m\u001b[1;33m\u001b[0m\u001b[1;33m\u001b[0m\u001b[0m\n\u001b[1;32m----> 6\u001b[1;33m     \u001b[1;32mif\u001b[0m \u001b[0ms\u001b[0m\u001b[1;33m[\u001b[0m\u001b[0mj\u001b[0m\u001b[1;33m]\u001b[0m \u001b[1;33m==\u001b[0m \u001b[1;34m\"Apple\"\u001b[0m\u001b[1;33m:\u001b[0m\u001b[1;33m\u001b[0m\u001b[1;33m\u001b[0m\u001b[0m\n\u001b[0m\u001b[0;32m      7\u001b[0m         \u001b[0mprint\u001b[0m\u001b[1;33m(\u001b[0m\u001b[0mi\u001b[0m\u001b[1;33m)\u001b[0m\u001b[1;33m\u001b[0m\u001b[1;33m\u001b[0m\u001b[0m\n\u001b[0;32m      8\u001b[0m         \u001b[0mindex\u001b[0m \u001b[1;33m=\u001b[0m \u001b[0mindex\u001b[0m\u001b[1;33m+\u001b[0m\u001b[1;33m[\u001b[0m\u001b[0mi\u001b[0m\u001b[1;33m]\u001b[0m\u001b[1;33m\u001b[0m\u001b[1;33m\u001b[0m\u001b[0m\n",
      "\u001b[1;31mTypeError\u001b[0m: list indices must be integers or slices, not list"
     ]
    }
   ],
   "source": [
    "index = []\n",
    "s = ['Apple', 'Ball', 'Cat', 'Dog', 'Fish',\"Apple\"]\n",
    "j=[x.lower()for x in s]\n",
    "n = len(s)\n",
    "for  i in range(n):\n",
    "    if s[j] == \"Apple\":\n",
    "        print(i)\n",
    "        index = index+[i]\n",
    "print(index)"
   ]
  },
  {
   "cell_type": "code",
   "execution_count": null,
   "metadata": {},
   "outputs": [],
   "source": [
    "# WAP to count the unsuccessful execution.\n",
    "# file handling"
   ]
  },
  {
   "cell_type": "code",
   "execution_count": null,
   "metadata": {},
   "outputs": [
    {
     "name": "stdout",
     "output_type": "stream",
     "text": [
      "Enter a = 10\n",
      "Enter b = 0\n",
      "The value of b should not be zero\n",
      "This is finally block\n",
      "Enter a = 5\n",
      "Enter b = 40\n",
      "0.125\n",
      "This is finally block\n"
     ]
    }
   ],
   "source": [
    "# def cal():\n",
    "def count():\n",
    "    try:\n",
    "        a = int(input(\"Enter a = \"))\n",
    "        b = int(input(\"Enter b = \"))\n",
    "        c = a/b\n",
    "        print(c)\n",
    "    except ZeroDivisionError:\n",
    "        print(\"The value of b should not be zero\")\n",
    "#         cal()\n",
    "    except ValueError:\n",
    "        print(\"a and b should be int\")\n",
    "#         cal()\n",
    "    finally:\n",
    "        print(\"This is finally block\")\n",
    "        count()\n",
    "# cal()\n",
    "count()"
   ]
  }
 ],
 "metadata": {
  "kernelspec": {
   "display_name": "Python 3",
   "language": "python",
   "name": "python3"
  },
  "language_info": {
   "codemirror_mode": {
    "name": "ipython",
    "version": 3
   },
   "file_extension": ".py",
   "mimetype": "text/x-python",
   "name": "python",
   "nbconvert_exporter": "python",
   "pygments_lexer": "ipython3",
   "version": "3.8.5"
  }
 },
 "nbformat": 4,
 "nbformat_minor": 4
}
