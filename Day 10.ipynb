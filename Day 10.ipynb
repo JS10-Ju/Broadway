{
 "cells": [
  {
   "cell_type": "code",
   "execution_count": 4,
   "metadata": {},
   "outputs": [
    {
     "name": "stdout",
     "output_type": "stream",
     "text": [
      "enter number=2\n",
      "enter name=banana\n",
      "enter price=100\n",
      "enter quantity=2\n",
      "enter name=apple\n",
      "enter price=50\n",
      "enter quantity=2\n",
      "the billing is [['banana', 100, 2, 200], ['apple', 50, 2, 100]]\n",
      "total is 300\n"
     ]
    }
   ],
   "source": [
    "s=[]\n",
    "b=0\n",
    "n=int(input(\"enter number=\"))\n",
    "for i in range(n):\n",
    "    product=(input(\"enter name=\"))\n",
    "    price=int(input(\"enter price=\"))\n",
    "    quantity=int(input(\"enter quantity=\"))\n",
    "    total=price*quantity\n",
    "    data=[[product,price,quantity,total]]\n",
    "    b=b+total\n",
    "    s=s+data\n",
    "print(\"the billing is\",s)\n",
    "print(\"total is\",b)"
   ]
  },
  {
   "cell_type": "code",
   "execution_count": 10,
   "metadata": {},
   "outputs": [
    {
     "name": "stdout",
     "output_type": "stream",
     "text": [
      "enter name=apple\n",
      "['apple', 60, 2, 120]\n"
     ]
    }
   ],
   "source": [
    "a=[['apple',60,2,120],['banana',60,2,120]]\n",
    "name=(input(\"enter name=\"))\n",
    "for i in a:\n",
    "    if name.lower() in i[0].lower():\n",
    "        print(i)"
   ]
  },
  {
   "cell_type": "code",
   "execution_count": 11,
   "metadata": {},
   "outputs": [
    {
     "name": "stdout",
     "output_type": "stream",
     "text": [
      "eneter namemilk\n",
      "enter price=100\n",
      "enter quantity=2\n",
      "[['banana', 100, 2, 200], ['apple', 50, 2, 100], ['milk', 100, 2, 200]]\n"
     ]
    }
   ],
   "source": [
    "name=input(\"eneter name\")\n",
    "price=int(input(\"enter price=\"))\n",
    "quantity=int(input(\"enter quantity=\"))\n",
    "total=price*quantity\n",
    "a=[['banana', 100, 2, 200], ['apple', 50, 2, 100]]\n",
    "a.append([name,price,quantity,total])\n",
    "print(a)"
   ]
  },
  {
   "cell_type": "code",
   "execution_count": 12,
   "metadata": {},
   "outputs": [
    {
     "data": {
      "text/plain": [
       "[['banana', 100, 2, 200], ['apple', 50, 2, 100], ['milk', 100, 2, 200]]"
      ]
     },
     "execution_count": 12,
     "metadata": {},
     "output_type": "execute_result"
    }
   ],
   "source": [
    "a"
   ]
  },
  {
   "cell_type": "code",
   "execution_count": 20,
   "metadata": {},
   "outputs": [
    {
     "name": "stdout",
     "output_type": "stream",
     "text": [
      "200\n"
     ]
    }
   ],
   "source": [
    "\n",
    "total=0\n",
    "for i in a:\n",
    "    x=i[0][2]\n",
    "    y=i[0][1]\n",
    "    total=x*y\n",
    "print(total)\n",
    "    "
   ]
  },
  {
   "cell_type": "code",
   "execution_count": 26,
   "metadata": {},
   "outputs": [
    {
     "name": "stdout",
     "output_type": "stream",
     "text": [
      "enter index1\n",
      "enter quantity1\n",
      "[['banana', 100, 2, 200], ['apple', 50, 1, 50]]\n"
     ]
    }
   ],
   "source": [
    "a=[['banana', 100, 2, 200], ['apple', 50, 2, 100], ['milk', 100, 2, 200]]\n",
    "index=int(input(\"enter index\"))\n",
    "quantity=int(input(\"enter quantity\"))\n",
    "total=s[index][1]*quantity\n",
    "s[index][2]=quantity\n",
    "s[index][3]=total\n",
    "print(s)"
   ]
  },
  {
   "cell_type": "code",
   "execution_count": null,
   "metadata": {},
   "outputs": [],
   "source": [
    "#total"
   ]
  },
  {
   "cell_type": "code",
   "execution_count": null,
   "metadata": {},
   "outputs": [],
   "source": [
    "#matrix\n",
    "z=[]\n",
    "r=int(in)"
   ]
  },
  {
   "cell_type": "code",
   "execution_count": null,
   "metadata": {},
   "outputs": [],
   "source": [
    "#tuple"
   ]
  }
 ],
 "metadata": {
  "kernelspec": {
   "display_name": "Python 3",
   "language": "python",
   "name": "python3"
  },
  "language_info": {
   "codemirror_mode": {
    "name": "ipython",
    "version": 3
   },
   "file_extension": ".py",
   "mimetype": "text/x-python",
   "name": "python",
   "nbconvert_exporter": "python",
   "pygments_lexer": "ipython3",
   "version": "3.8.5"
  }
 },
 "nbformat": 4,
 "nbformat_minor": 4
}
