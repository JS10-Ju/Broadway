{
 "cells": [
  {
   "cell_type": "code",
   "execution_count": 1,
   "metadata": {},
   "outputs": [],
   "source": [
    "b=open('class.txt','x')\n",
    "b.close()"
   ]
  },
  {
   "cell_type": "code",
   "execution_count": 4,
   "metadata": {},
   "outputs": [
    {
     "name": "stdout",
     "output_type": "stream",
     "text": [
      "<class 'str'>\n",
      "1.hello world\n",
      "2.hello world\n",
      "3.hello world\n",
      "4.hello world\n",
      "5.hello world \n",
      "\n"
     ]
    }
   ],
   "source": [
    "b=open('class.txt','r')\n",
    "c=b.read()\n",
    "print(type(c))\n",
    "print(c)\n",
    "b.close()"
   ]
  },
  {
   "cell_type": "code",
   "execution_count": null,
   "metadata": {},
   "outputs": [],
   "source": [
    "# readline- first line read garna paryo vane!!"
   ]
  },
  {
   "cell_type": "code",
   "execution_count": 7,
   "metadata": {},
   "outputs": [
    {
     "name": "stdout",
     "output_type": "stream",
     "text": [
      "1.hello world\n",
      "\n"
     ]
    }
   ],
   "source": [
    "b=open('class.txt','r')\n",
    "c=b.readline()\n",
    "print(c)\n",
    "b.close()"
   ]
  },
  {
   "cell_type": "code",
   "execution_count": 8,
   "metadata": {},
   "outputs": [
    {
     "name": "stdout",
     "output_type": "stream",
     "text": [
      "['1.hello world', '2.hello world', '3.hello world', '4.hello world', '5.hello world ', '']\n"
     ]
    }
   ],
   "source": [
    "b=open('class.txt','r')\n",
    "c=b.read()\n",
    "d=c.split('\\n')\n",
    "print(d)\n",
    "b.close()"
   ]
  },
  {
   "cell_type": "code",
   "execution_count": 9,
   "metadata": {},
   "outputs": [
    {
     "data": {
      "text/plain": [
       "'3.hello world'"
      ]
     },
     "execution_count": 9,
     "metadata": {},
     "output_type": "execute_result"
    }
   ],
   "source": [
    "d[2]"
   ]
  },
  {
   "cell_type": "code",
   "execution_count": 12,
   "metadata": {},
   "outputs": [
    {
     "name": "stdout",
     "output_type": "stream",
     "text": [
      "['1.hello world', '']\n"
     ]
    }
   ],
   "source": [
    "b=open('class.txt','r')\n",
    "c=b.readline()\n",
    "d=c.split('\\n')\n",
    "print(d)\n",
    "# print(c)\n",
    "b.close()"
   ]
  },
  {
   "cell_type": "code",
   "execution_count": 15,
   "metadata": {},
   "outputs": [
    {
     "name": "stdout",
     "output_type": "stream",
     "text": [
      "enter num=4\n",
      "4.hello world\n",
      "\n"
     ]
    }
   ],
   "source": [
    "b=open('class.txt','r')\n",
    "n=int(input(\"enter num=\"))\n",
    "for i in range (1,6):\n",
    "    if i !=n:\n",
    "        b.readline()\n",
    "    else:\n",
    "        print(b.readline())\n",
    "b.close()"
   ]
  },
  {
   "cell_type": "code",
   "execution_count": 21,
   "metadata": {},
   "outputs": [
    {
     "name": "stdout",
     "output_type": "stream",
     "text": [
      "enter number=1\n",
      "enter name=ram\n",
      "enter address=ktm\n"
     ]
    }
   ],
   "source": [
    "b=open('class.txt','w')\n",
    "s=\"\"\n",
    "n=int(input(\"enter number=\"))\n",
    "for i in range(n):\n",
    "    name=(input(\"enter name=\"))\n",
    "    add=(input(\"enter address=\"))\n",
    "    info=\"f{name}--{phone}\\n\"\n",
    "    s=s+info\n",
    "b.write(s)\n",
    "b.close()"
   ]
  },
  {
   "cell_type": "code",
   "execution_count": 22,
   "metadata": {},
   "outputs": [
    {
     "name": "stdout",
     "output_type": "stream",
     "text": [
      "enter number=2\n",
      "enter name=ram\n",
      "enter address=ktm\n",
      "enter name=shyam\n",
      "enter address=bkt\n"
     ]
    }
   ],
   "source": [
    "b=open('new.csv','w')\n",
    "b.write('name,address\\n')\n",
    "s=\"\"\n",
    "n=int(input(\"enter number=\"))\n",
    "for i in range(n):\n",
    "    name=(input(\"enter name=\"))\n",
    "    add=(input(\"enter address=\"))\n",
    "    info=\"f{name}--{phone}\\n\"\n",
    "    s=s+info\n",
    "b.write(s)\n",
    "b.close()"
   ]
  },
  {
   "cell_type": "code",
   "execution_count": null,
   "metadata": {},
   "outputs": [],
   "source": []
  }
 ],
 "metadata": {
  "kernelspec": {
   "display_name": "Python 3",
   "language": "python",
   "name": "python3"
  },
  "language_info": {
   "codemirror_mode": {
    "name": "ipython",
    "version": 3
   },
   "file_extension": ".py",
   "mimetype": "text/x-python",
   "name": "python",
   "nbconvert_exporter": "python",
   "pygments_lexer": "ipython3",
   "version": "3.8.5"
  }
 },
 "nbformat": 4,
 "nbformat_minor": 4
}
