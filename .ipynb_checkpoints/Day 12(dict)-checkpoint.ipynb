{
 "cells": [
  {
   "cell_type": "code",
   "execution_count": 2,
   "metadata": {},
   "outputs": [
    {
     "data": {
      "text/plain": [
       "9865454545"
      ]
     },
     "execution_count": 2,
     "metadata": {},
     "output_type": "execute_result"
    }
   ],
   "source": [
    "#use of dictionary\n",
    "mydi={\n",
    "    \"name\":\"Jumanu\",\n",
    "    \"age\":21,\n",
    "    \"phone\":9865454545\n",
    "}\n",
    "a=mydi[\"phone\"]\n",
    "a"
   ]
  },
  {
   "cell_type": "code",
   "execution_count": 1,
   "metadata": {},
   "outputs": [
    {
     "name": "stdout",
     "output_type": "stream",
     "text": [
      "{'name': 'Jumanu', 'age': 21, 'phone': 9865454545}\n"
     ]
    }
   ],
   "source": [
    "# use of dictionary\n",
    "mydi={\n",
    "    \"name\":\"Jumanu\",\n",
    "    \"age\":21,\n",
    "    \"phone\":9865454545\n",
    "}\n",
    "print(mydi)"
   ]
  },
  {
   "cell_type": "code",
   "execution_count": 10,
   "metadata": {},
   "outputs": [
    {
     "name": "stdout",
     "output_type": "stream",
     "text": [
      "{'name': 'Jumanu', 'address': 'Bhaktapur', 'age': 21}\n"
     ]
    }
   ],
   "source": [
    "mydict={\n",
    "    \"name\":\"Jumanu\",\n",
    "    \"address\":\"Bhaktapur\",\n",
    "    \"age\":21\n",
    "}\n",
    "print(mydict)"
   ]
  },
  {
   "cell_type": "code",
   "execution_count": 24,
   "metadata": {},
   "outputs": [
    {
     "name": "stdout",
     "output_type": "stream",
     "text": [
      "{}\n"
     ]
    }
   ],
   "source": [
    "#use of dictionary \n",
    "mydi={}\n",
    "# print(mydi)\n",
    "mydi[0]:\"name\"\n",
    "mydi[1]:\"Address\"\n",
    "print(mydi)"
   ]
  },
  {
   "cell_type": "code",
   "execution_count": null,
   "metadata": {},
   "outputs": [],
   "source": [
    "#dictionary\n",
    "#index and key are same\n",
    "#syntax:-dict={<key:<value>,<key>:<value>,<key>:<value>}\n",
    "#slicing hudaina(1:3)\n",
    "# Mutable\n",
    "# indexed\n",
    "# ordered\n",
    "# duplicate"
   ]
  },
  {
   "cell_type": "code",
   "execution_count": 25,
   "metadata": {},
   "outputs": [
    {
     "name": "stdout",
     "output_type": "stream",
     "text": [
      "enter name=hari\n",
      "enter phone100225\n",
      "enter name=shyam\n",
      "enter phone662644\n",
      "{'hari': '100225', 'shyam': '662644'}\n"
     ]
    }
   ],
   "source": [
    "a={}\n",
    "for i in range(2):\n",
    "    name=(input(\"enter name=\"))\n",
    "    phone=(input(\"enter phone=\"))\n",
    "    a[name]=phone\n",
    "print(a)"
   ]
  },
  {
   "cell_type": "code",
   "execution_count": 26,
   "metadata": {},
   "outputs": [
    {
     "data": {
      "text/plain": [
       "{'a': 'apple', 'b': 'ball', 'c': 'cat'}"
      ]
     },
     "execution_count": 26,
     "metadata": {},
     "output_type": "execute_result"
    }
   ],
   "source": [
    "#update\n",
    "a={\"a\":\"apple\",\"b\":\"ball\"}\n",
    "d={\"c\":\"cat\"}\n",
    "a.update(d)\n",
    "a"
   ]
  },
  {
   "cell_type": "code",
   "execution_count": 27,
   "metadata": {},
   "outputs": [
    {
     "name": "stdout",
     "output_type": "stream",
     "text": [
      "{'a': 'apple', 'b': 'ball', 'c': 'cat'}\n",
      "{'a': 'apple', 'b': 'ball', 'c': 'cat'}\n",
      "{'a': 'apple', 'b': 'ball', 'c': 'cat'}\n"
     ]
    }
   ],
   "source": [
    "for i in a:\n",
    "    print(a)"
   ]
  },
  {
   "cell_type": "code",
   "execution_count": 28,
   "metadata": {},
   "outputs": [
    {
     "name": "stdout",
     "output_type": "stream",
     "text": [
      "a\n",
      "b\n",
      "c\n"
     ]
    }
   ],
   "source": [
    "#for index only\n",
    "for i in a:\n",
    "    print(i)"
   ]
  },
  {
   "cell_type": "code",
   "execution_count": 29,
   "metadata": {},
   "outputs": [
    {
     "name": "stdout",
     "output_type": "stream",
     "text": [
      "apple\n",
      "ball\n",
      "cat\n"
     ]
    }
   ],
   "source": [
    "#for values only\n",
    "for i in a.values():\n",
    "    print(i)"
   ]
  },
  {
   "cell_type": "code",
   "execution_count": 30,
   "metadata": {},
   "outputs": [
    {
     "name": "stdout",
     "output_type": "stream",
     "text": [
      "('a', 'apple')\n",
      "('b', 'ball')\n",
      "('c', 'cat')\n"
     ]
    }
   ],
   "source": [
    "#for both index and values\n",
    "for i in a.items():\n",
    "    print(i)"
   ]
  },
  {
   "cell_type": "code",
   "execution_count": 31,
   "metadata": {},
   "outputs": [
    {
     "data": {
      "text/plain": [
       "{}"
      ]
     },
     "execution_count": 31,
     "metadata": {},
     "output_type": "execute_result"
    }
   ],
   "source": [
    "a.clear()\n",
    "a"
   ]
  },
  {
   "cell_type": "code",
   "execution_count": 33,
   "metadata": {},
   "outputs": [
    {
     "data": {
      "text/plain": [
       "{'b': 'ball', 'c': 'cat'}"
      ]
     },
     "execution_count": 33,
     "metadata": {},
     "output_type": "execute_result"
    }
   ],
   "source": [
    "a={'a': 'apple', 'b': 'ball', 'c': 'cat'}\n",
    "del a['a']\n",
    "a"
   ]
  },
  {
   "cell_type": "code",
   "execution_count": 35,
   "metadata": {},
   "outputs": [
    {
     "name": "stdout",
     "output_type": "stream",
     "text": [
      "enter name=ram\n",
      "enter ncell num=778788\n",
      "enter ntc num=5555\n",
      "enter name=shyam\n",
      "enter ncell num=55555\n",
      "enter ntc num=5666'\n",
      "{'ram': ['778788', '5555'], 'shyam': ['55555', \"5666'\"]}\n"
     ]
    }
   ],
   "source": [
    "a={}\n",
    "for i in range(2):\n",
    "    name=(input(\"enter name=\"))\n",
    "    ncell_phone=(input(\"enter ncell num=\"))\n",
    "    ntc_phone=(input(\"enter ntc num=\"))\n",
    "    a[name]=[ncell_phone,ntc_phone]\n",
    "print(a)"
   ]
  },
  {
   "cell_type": "code",
   "execution_count": 36,
   "metadata": {},
   "outputs": [
    {
     "name": "stdout",
     "output_type": "stream",
     "text": [
      "enter nameram\n",
      "['778788', '5555']\n"
     ]
    }
   ],
   "source": [
    "name=(input(\"enter name\"))\n",
    "print(a[name])"
   ]
  },
  {
   "cell_type": "code",
   "execution_count": 37,
   "metadata": {},
   "outputs": [
    {
     "data": {
      "text/plain": [
       "{'ram': ['5555'], 'shyam': ['55555', \"5666'\"]}"
      ]
     },
     "execution_count": 37,
     "metadata": {},
     "output_type": "execute_result"
    }
   ],
   "source": [
    "#del index\n",
    "a={'ram': ['778788', '5555'], 'shyam': ['55555', \"5666'\"]}\n",
    "del a[\"ram\"][0]\n",
    "a"
   ]
  },
  {
   "cell_type": "code",
   "execution_count": 38,
   "metadata": {},
   "outputs": [
    {
     "data": {
      "text/plain": [
       "{'ram': ['778788', '5555', 66666], 'shyam': ['55555', \"5666'\"]}"
      ]
     },
     "execution_count": 38,
     "metadata": {},
     "output_type": "execute_result"
    }
   ],
   "source": [
    "#append\n",
    "a={'ram': ['778788', '5555'], 'shyam': ['55555', \"5666'\"]}\n",
    "a[\"ram\"].append(66666)\n",
    "a"
   ]
  },
  {
   "cell_type": "code",
   "execution_count": 47,
   "metadata": {},
   "outputs": [
    {
     "data": {
      "text/plain": [
       "[{'ram': 778788}, {'shyam': 555666}]"
      ]
     },
     "execution_count": 47,
     "metadata": {},
     "output_type": "execute_result"
    }
   ],
   "source": [
    "#dict inside list\n",
    "a=[{'ram':778788}, {'shyam': 555666}]\n",
    "a\n"
   ]
  },
  {
   "cell_type": "code",
   "execution_count": 49,
   "metadata": {},
   "outputs": [
    {
     "data": {
      "text/plain": [
       "{'ram': 778788}"
      ]
     },
     "execution_count": 49,
     "metadata": {},
     "output_type": "execute_result"
    }
   ],
   "source": [
    "a=[{'ram':778788}, {'shyam': 555666}]\n",
    "a[0]\n"
   ]
  },
  {
   "cell_type": "code",
   "execution_count": 51,
   "metadata": {},
   "outputs": [
    {
     "name": "stdout",
     "output_type": "stream",
     "text": [
      "enter number=2\n",
      "enter name=ram\n",
      "enter phone=99889\n",
      "enter name=shyam\n",
      "enter phone=5656996\n",
      "[{'ram': '99889'}, {'shyam': '5656996'}]\n"
     ]
    }
   ],
   "source": [
    "#dict inside list\n",
    "x=[]\n",
    "a=int(input(\"enter number=\"))\n",
    "for i in range (a):\n",
    "    name=(input(\"enter name=\"))\n",
    "    phone=(input(\"enter phone=\"))\n",
    "    b={name:phone}\n",
    "    x.append(b)\n",
    "print(x)"
   ]
  },
  {
   "cell_type": "code",
   "execution_count": null,
   "metadata": {},
   "outputs": [],
   "source": [
    "#assignment\n",
    "#change key of dict"
   ]
  }
 ],
 "metadata": {
  "kernelspec": {
   "display_name": "Python 3",
   "language": "python",
   "name": "python3"
  },
  "language_info": {
   "codemirror_mode": {
    "name": "ipython",
    "version": 3
   },
   "file_extension": ".py",
   "mimetype": "text/x-python",
   "name": "python",
   "nbconvert_exporter": "python",
   "pygments_lexer": "ipython3",
   "version": "3.8.5"
  }
 },
 "nbformat": 4,
 "nbformat_minor": 4
}
