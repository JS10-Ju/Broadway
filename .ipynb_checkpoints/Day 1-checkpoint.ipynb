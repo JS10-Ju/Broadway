{
 "cells": [
  {
   "cell_type": "code",
   "execution_count": 2,
   "metadata": {},
   "outputs": [
    {
     "name": "stdout",
     "output_type": "stream",
     "text": [
      "20.0\n"
     ]
    }
   ],
   "source": [
    "#to calculate interest\n",
    "p=100\n",
    "t=2\n",
    "r=10\n",
    "i=p*t*r/100\n",
    "print(i)"
   ]
  },
  {
   "cell_type": "code",
   "execution_count": 4,
   "metadata": {},
   "outputs": [
    {
     "name": "stdout",
     "output_type": "stream",
     "text": [
      "enter p =100\n",
      "enter t =2\n",
      "enter r =10\n",
      "the interest is 20.0\n"
     ]
    }
   ],
   "source": [
    "#to calculate interest acc. to user\n",
    "p=int(input(\"enter p =\"))\n",
    "t=int(input(\"enter t =\"))\n",
    "r=int(input(\"enter r =\"))\n",
    "i=p*t*r/100\n",
    "print(\"the interest is\", i)\n"
   ]
  },
  {
   "cell_type": "code",
   "execution_count": 15,
   "metadata": {},
   "outputs": [
    {
     "name": "stdout",
     "output_type": "stream",
     "text": [
      "enter no. of student2\n",
      "enter name=ram\n",
      "enter Physics marks=100\n",
      "enter Chemistry marks=100\n",
      "enter English marks=206\n",
      "enter Nepali marks=50\n",
      "enter Computer marks=50\n",
      "your percentage is  101.2\n",
      "Distinction\n",
      "enter name=20\n",
      "enter Physics marks=20\n",
      "enter Chemistry marks=20\n",
      "enter English marks=20\n",
      "enter Nepali marks=26\n",
      "enter Computer marks=50\n",
      "your percentage is  27.200000000000003\n",
      "Sorry,Fail\n"
     ]
    }
   ],
   "source": [
    "s=\"\"\n",
    "num=int(input(\"enter no. of student\"))\n",
    "for i in range(num):\n",
    "    name=(input(\"enter name=\"))\n",
    "    a=int(input(\"enter Physics marks=\"))\n",
    "    b=int(input(\"enter Chemistry marks=\"))\n",
    "    c=int(input(\"enter English marks=\"))\n",
    "    d=int(input(\"enter Nepali marks=\"))\n",
    "    e=int(input(\"enter Computer marks=\"))\n",
    "    per=(a+b+c+d+e)/500\n",
    "    percentage=per*100\n",
    "#     ms=f\"{name}{a}{b}{c}{d}{e}{percentage}\"\n",
    "#     ms=ms+s\n",
    "    print(\"your percentage is \",percentage)\n",
    "    if percentage >=80:\n",
    "        print(\"Distinction\")\n",
    "    elif percentage >=60:\n",
    "        print(\"First division\")\n",
    "    elif percentage >=40:\n",
    "        print(\"Second division\")\n",
    "    elif percentage<=39:\n",
    "        print(\"Sorry,Fail\")\n",
    "    print"
   ]
  },
  {
   "cell_type": "code",
   "execution_count": 7,
   "metadata": {},
   "outputs": [
    {
     "name": "stdout",
     "output_type": "stream",
     "text": [
      "<class 'int'>\n"
     ]
    }
   ],
   "source": [
    "#check datatype\n",
    "a=100\n",
    "print(type(a))"
   ]
  },
  {
   "cell_type": "code",
   "execution_count": 1,
   "metadata": {},
   "outputs": [
    {
     "data": {
      "text/plain": [
       "'hello worldhello world'"
      ]
     },
     "execution_count": 1,
     "metadata": {},
     "output_type": "execute_result"
    }
   ],
   "source": [
    "#string * int\n",
    "a=\"hello world\"\n",
    "b=2\n",
    "a*b"
   ]
  },
  {
   "cell_type": "code",
   "execution_count": null,
   "metadata": {},
   "outputs": [],
   "source": []
  },
  {
   "cell_type": "code",
   "execution_count": 2,
   "metadata": {},
   "outputs": [
    {
     "name": "stdout",
     "output_type": "stream",
     "text": [
      "enter your name =ram\n",
      "enter your age =20\n",
      "enter your address= ktm\n",
      "hello my name is rami am fromktmi am 20years old\n"
     ]
    }
   ],
   "source": [
    "#string\n",
    "name=input(\"enter your name =\")\n",
    "age= int(input(\"enter your age =\"))\n",
    "add=input(\"enter your address= \")\n",
    "info=\"hello my name is \"+name+ \"i am from\" +add+ \"i am \"+ str(age)+ \"years old\"\n",
    "print(info)\n"
   ]
  },
  {
   "cell_type": "code",
   "execution_count": null,
   "metadata": {},
   "outputs": [],
   "source": []
  },
  {
   "cell_type": "code",
   "execution_count": null,
   "metadata": {},
   "outputs": [],
   "source": []
  }
 ],
 "metadata": {
  "kernelspec": {
   "display_name": "Python 3",
   "language": "python",
   "name": "python3"
  },
  "language_info": {
   "codemirror_mode": {
    "name": "ipython",
    "version": 3
   },
   "file_extension": ".py",
   "mimetype": "text/x-python",
   "name": "python",
   "nbconvert_exporter": "python",
   "pygments_lexer": "ipython3",
   "version": "3.8.5"
  }
 },
 "nbformat": 4,
 "nbformat_minor": 4
}
