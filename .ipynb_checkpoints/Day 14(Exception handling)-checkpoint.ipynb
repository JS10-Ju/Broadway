{
 "cells": [
  {
   "cell_type": "code",
   "execution_count": null,
   "metadata": {},
   "outputs": [],
   "source": [
    "# syntax\n",
    "# # try:\n",
    "#     {run this code}\n",
    "# except:\n",
    "#     {run this code if an exception error}\n",
    "# else:\n",
    "#     {run this code if there is not exception error}\n",
    "#finally:\n",
    "#    {}\n",
    "    \n",
    "#try,except,else\n",
    "#try,except,else,finally\n",
    "#try,raise,except,else,finally\n",
    "#assert statement\n"
   ]
  },
  {
   "cell_type": "code",
   "execution_count": 1,
   "metadata": {},
   "outputs": [
    {
     "name": "stdout",
     "output_type": "stream",
     "text": [
      "enter name=Ram\n",
      "enter age50\n",
      "the age should in int datatype\n"
     ]
    }
   ],
   "source": [
    "try:\n",
    "    name=(input(\"enter name=\"))\n",
    "    age=int(input(\"enter age\"))\n",
    "    info=\"i am\"+name+\"i am\"+age\n",
    "    print(info)\n",
    "except:\n",
    "    print(\"the age should in int datatype\")"
   ]
  },
  {
   "cell_type": "code",
   "execution_count": 3,
   "metadata": {},
   "outputs": [
    {
     "name": "stdout",
     "output_type": "stream",
     "text": [
      "enter name=Ram \n",
      "enter age10\n"
     ]
    },
    {
     "ename": "TypeError",
     "evalue": "can only concatenate str (not \"int\") to str",
     "output_type": "error",
     "traceback": [
      "\u001b[1;31m---------------------------------------------------------------------------\u001b[0m",
      "\u001b[1;31mTypeError\u001b[0m                                 Traceback (most recent call last)",
      "\u001b[1;32m<ipython-input-3-7d0013c075a8>\u001b[0m in \u001b[0;36m<module>\u001b[1;34m\u001b[0m\n\u001b[0;32m      1\u001b[0m \u001b[0mname\u001b[0m\u001b[1;33m=\u001b[0m\u001b[1;33m(\u001b[0m\u001b[0minput\u001b[0m\u001b[1;33m(\u001b[0m\u001b[1;34m\"enter name=\"\u001b[0m\u001b[1;33m)\u001b[0m\u001b[1;33m)\u001b[0m\u001b[1;33m\u001b[0m\u001b[1;33m\u001b[0m\u001b[0m\n\u001b[0;32m      2\u001b[0m \u001b[0mage\u001b[0m\u001b[1;33m=\u001b[0m\u001b[0mint\u001b[0m\u001b[1;33m(\u001b[0m\u001b[0minput\u001b[0m\u001b[1;33m(\u001b[0m\u001b[1;34m\"enter age\"\u001b[0m\u001b[1;33m)\u001b[0m\u001b[1;33m)\u001b[0m\u001b[1;33m\u001b[0m\u001b[1;33m\u001b[0m\u001b[0m\n\u001b[1;32m----> 3\u001b[1;33m \u001b[0minfo\u001b[0m\u001b[1;33m=\u001b[0m\u001b[1;34m\"i am\"\u001b[0m\u001b[1;33m+\u001b[0m\u001b[0mname\u001b[0m\u001b[1;33m+\u001b[0m\u001b[1;34m\"i am\"\u001b[0m\u001b[1;33m+\u001b[0m\u001b[0mage\u001b[0m\u001b[1;33m\u001b[0m\u001b[1;33m\u001b[0m\u001b[0m\n\u001b[0m\u001b[0;32m      4\u001b[0m \u001b[0mprint\u001b[0m\u001b[1;33m(\u001b[0m\u001b[0minfo\u001b[0m\u001b[1;33m)\u001b[0m\u001b[1;33m\u001b[0m\u001b[1;33m\u001b[0m\u001b[0m\n",
      "\u001b[1;31mTypeError\u001b[0m: can only concatenate str (not \"int\") to str"
     ]
    }
   ],
   "source": [
    "name=(input(\"enter name=\"))\n",
    "age=int(input(\"enter age=\"))\n",
    "info=\"i am\"+name+\"i am\"+age\n",
    "print(info)"
   ]
  },
  {
   "cell_type": "code",
   "execution_count": 5,
   "metadata": {},
   "outputs": [
    {
     "ename": "SyntaxError",
     "evalue": "invalid syntax (<ipython-input-5-c9d0005acde5>, line 4)",
     "output_type": "error",
     "traceback": [
      "\u001b[1;36m  File \u001b[1;32m\"<ipython-input-5-c9d0005acde5>\"\u001b[1;36m, line \u001b[1;32m4\u001b[0m\n\u001b[1;33m    info=\"i am\"{name}\"i am\"{age}\u001b[0m\n\u001b[1;37m               ^\u001b[0m\n\u001b[1;31mSyntaxError\u001b[0m\u001b[1;31m:\u001b[0m invalid syntax\n"
     ]
    }
   ],
   "source": [
    "try:\n",
    "    name=(input(\"enter name=\"))\n",
    "    age=int(input(\"enter age\"))\n",
    "    info=\"i am\"{name}\"i am\"{age}\n",
    "    \n",
    "    print (info)\n",
    "except:\n",
    "    print(\"the age should in int datatype\")"
   ]
  },
  {
   "cell_type": "code",
   "execution_count": 21,
   "metadata": {},
   "outputs": [
    {
     "name": "stdout",
     "output_type": "stream",
     "text": [
      "enter a=10\n",
      "enter b=0\n",
      "shoud not be 0\n",
      "enter a=10\n",
      "enter b=5\n",
      "2.0\n"
     ]
    }
   ],
   "source": [
    "def cal():\n",
    "    try:\n",
    "        a=int(input(\"enter a=\"))\n",
    "        b=int(input(\"enter b=\"))\n",
    "        c=a/b\n",
    "        print(c)\n",
    "    except ValueError:\n",
    "        print(\"should be int\")\n",
    "        cal()\n",
    "    except ZeroDivisionError:\n",
    "        print(\"shoud not be 0\")\n",
    "        cal()\n",
    "    \n",
    "cal()\n",
    "    "
   ]
  },
  {
   "cell_type": "code",
   "execution_count": 22,
   "metadata": {},
   "outputs": [
    {
     "name": "stdout",
     "output_type": "stream",
     "text": [
      "enter a=10\n",
      "enter b=2\n",
      "5.0\n",
      "this is else block\n",
      "the value of c is 5.0\n"
     ]
    }
   ],
   "source": [
    "try:\n",
    "    a=int(input(\"enter a=\"))\n",
    "    b=int(input(\"enter b=\"))\n",
    "    c=a/b\n",
    "    print(c)\n",
    "except ValueError:\n",
    "    print(\"should be int\")\n",
    "except ZeroDivisionError:\n",
    "    print(\"shoud not be 0\")\n",
    "else:\n",
    "    print(\"this is else block\")\n",
    "    print(\"the value of c is\",c)\n"
   ]
  },
  {
   "cell_type": "code",
   "execution_count": 24,
   "metadata": {},
   "outputs": [
    {
     "name": "stdout",
     "output_type": "stream",
     "text": [
      "b is greater than a\n"
     ]
    }
   ],
   "source": [
    "#assert\n",
    "a=10\n",
    "b=2\n",
    "try:\n",
    "    assert a<b\n",
    "    print(\"a is greater than b\")\n",
    "except:\n",
    "    print(\"b is greater than a\")"
   ]
  },
  {
   "cell_type": "code",
   "execution_count": 32,
   "metadata": {},
   "outputs": [
    {
     "name": "stdout",
     "output_type": "stream",
     "text": [
      "enter name=ram\n",
      "first alphabet should be capital\n"
     ]
    }
   ],
   "source": [
    "#use of assert\n",
    "try:\n",
    "    name=(input(\"enter name=\"))\n",
    "    assert name[0].isupper()\n",
    "    print(name)\n",
    "except AssertionError:\n",
    "    print(\"first alphabet should be capital\")"
   ]
  },
  {
   "cell_type": "code",
   "execution_count": null,
   "metadata": {},
   "outputs": [],
   "source": [
    "#file handling"
   ]
  }
 ],
 "metadata": {
  "kernelspec": {
   "display_name": "Python 3",
   "language": "python",
   "name": "python3"
  },
  "language_info": {
   "codemirror_mode": {
    "name": "ipython",
    "version": 3
   },
   "file_extension": ".py",
   "mimetype": "text/x-python",
   "name": "python",
   "nbconvert_exporter": "python",
   "pygments_lexer": "ipython3",
   "version": "3.8.5"
  }
 },
 "nbformat": 4,
 "nbformat_minor": 4
}
