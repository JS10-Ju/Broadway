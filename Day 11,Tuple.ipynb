{
 "cells": [
  {
   "cell_type": "code",
   "execution_count": null,
   "metadata": {},
   "outputs": [],
   "source": [
    "#Tuple\n",
    "#imutable\n",
    "#ordered\n",
    "#duplicate\n",
    "#indexed\n",
    "#updatae ra delete garna kahilai mildaina\n",
    "#constant rakhna use hunxa"
   ]
  },
  {
   "cell_type": "code",
   "execution_count": 1,
   "metadata": {},
   "outputs": [
    {
     "name": "stdout",
     "output_type": "stream",
     "text": [
      "('Apple', 'Ball', 'Cat')\n"
     ]
    }
   ],
   "source": [
    "tuple=(\"Apple\",\"Ball\",\"Cat\")\n",
    "print(tuple)"
   ]
  },
  {
   "cell_type": "code",
   "execution_count": 2,
   "metadata": {},
   "outputs": [
    {
     "name": "stdout",
     "output_type": "stream",
     "text": [
      "3\n"
     ]
    }
   ],
   "source": [
    "tuple=(\"Apple\",\"Ball\",\"Cat\")\n",
    "print(len(tuple))"
   ]
  },
  {
   "cell_type": "code",
   "execution_count": 5,
   "metadata": {},
   "outputs": [
    {
     "name": "stdout",
     "output_type": "stream",
     "text": [
      "<class 'tuple'>\n",
      "<class 'str'>\n"
     ]
    }
   ],
   "source": [
    "#diff between tuple and str\n",
    "tuple=(\"Apple\",\"Ball\",\"Cat\")\n",
    "print(type(tuple))\n",
    "tuple=(\"Apple\")\n",
    "print(type(tuple))"
   ]
  },
  {
   "cell_type": "code",
   "execution_count": 6,
   "metadata": {},
   "outputs": [
    {
     "name": "stdout",
     "output_type": "stream",
     "text": [
      "('apple', 'ball', 'cat') (True, False) (1, 2, 5, 6)\n"
     ]
    }
   ],
   "source": [
    "#str,boolen,int\n",
    "string=(\"apple\",\"ball\",\"cat\")\n",
    "boolen=(True,False)\n",
    "integer=(1,2,5,6)\n",
    "print(string,boolen,integer)"
   ]
  },
  {
   "cell_type": "code",
   "execution_count": 7,
   "metadata": {},
   "outputs": [
    {
     "name": "stdout",
     "output_type": "stream",
     "text": [
      "('Ram', 20, 'male', 'Student')\n"
     ]
    }
   ],
   "source": [
    "#tuple with diff datatype\n",
    "tuple=(\"Ram\",20,\"male\",\"Student\")\n",
    "print(tuple)"
   ]
  },
  {
   "cell_type": "code",
   "execution_count": 24,
   "metadata": {},
   "outputs": [
    {
     "name": "stdout",
     "output_type": "stream",
     "text": [
      "('Ram', 'Shyam')\n"
     ]
    }
   ],
   "source": [
    "a=((\"Ram\"),(\"Shyam\"))\n",
    "print(a)"
   ]
  },
  {
   "cell_type": "code",
   "execution_count": 13,
   "metadata": {},
   "outputs": [
    {
     "name": "stdout",
     "output_type": "stream",
     "text": [
      "Apple\n"
     ]
    }
   ],
   "source": [
    "#print first element\n",
    "a=(\"Apple\",\"Ball\",\"Cat\")\n",
    "print(a[0])"
   ]
  },
  {
   "cell_type": "code",
   "execution_count": 14,
   "metadata": {},
   "outputs": [
    {
     "name": "stdout",
     "output_type": "stream",
     "text": [
      "Cat\n"
     ]
    }
   ],
   "source": [
    "#print last element\n",
    "tuple=(\"Apple\",\"Ball\",\"Cat\")\n",
    "print(tuple[-1])"
   ]
  },
  {
   "cell_type": "code",
   "execution_count": 15,
   "metadata": {},
   "outputs": [
    {
     "name": "stdout",
     "output_type": "stream",
     "text": [
      "('Apple', 'Ball', 'Cat', 'dog')\n"
     ]
    }
   ],
   "source": [
    "#print upto 4th element\n",
    "tuple=(\"Apple\",\"Ball\",\"Cat\",\"dog\",\"egg\")\n",
    "print(tuple[:4])"
   ]
  },
  {
   "cell_type": "code",
   "execution_count": 16,
   "metadata": {},
   "outputs": [
    {
     "name": "stdout",
     "output_type": "stream",
     "text": [
      "Yes,Apple is in tuple 1\n"
     ]
    }
   ],
   "source": [
    "#check whether it exists or not\n",
    "a=(\"Apple\",\"Ball\",\"Cat\")\n",
    "if \"Apple\" in a:\n",
    "    print(\"Yes,Apple is in tuple\",a.count(\"Apple\"))\n",
    "else:\n",
    "    print(\"No\")"
   ]
  },
  {
   "cell_type": "code",
   "execution_count": 1,
   "metadata": {},
   "outputs": [
    {
     "name": "stdout",
     "output_type": "stream",
     "text": [
      "Yes, 'apple' is in the fruits tuple\n"
     ]
    }
   ],
   "source": [
    "check = (\"apple\", \"banana\", \"cherry\")\n",
    "if \"apple\" in check:\n",
    "    print(\"Yes, 'apple' is in the fruits tuple\")\n"
   ]
  },
  {
   "cell_type": "code",
   "execution_count": 3,
   "metadata": {},
   "outputs": [
    {
     "name": "stdout",
     "output_type": "stream",
     "text": [
      "()\n",
      "()\n"
     ]
    }
   ],
   "source": [
    "a=()\n",
    "b=tuple()\n",
    "print(a)\n",
    "print(b)"
   ]
  },
  {
   "cell_type": "code",
   "execution_count": 5,
   "metadata": {},
   "outputs": [
    {
     "data": {
      "text/plain": [
       "3"
      ]
     },
     "execution_count": 5,
     "metadata": {},
     "output_type": "execute_result"
    }
   ],
   "source": [
    "a=(0,1,2,3,4)\n",
    "a[3]"
   ]
  },
  {
   "cell_type": "code",
   "execution_count": 6,
   "metadata": {},
   "outputs": [
    {
     "name": "stdout",
     "output_type": "stream",
     "text": [
      "(1, 2, 3, 4, 5, 6)\n"
     ]
    }
   ],
   "source": [
    "a=(1,2,3)\n",
    "b=(4,5,6)\n",
    "print(a+b)"
   ]
  },
  {
   "cell_type": "code",
   "execution_count": 7,
   "metadata": {},
   "outputs": [
    {
     "name": "stdout",
     "output_type": "stream",
     "text": [
      "(1, 2, 3, 1, 2, 3)\n"
     ]
    }
   ],
   "source": [
    "#duplicate\n",
    "a=(1,2,3,1,2,3)\n",
    "print(a)"
   ]
  },
  {
   "cell_type": "code",
   "execution_count": 12,
   "metadata": {},
   "outputs": [
    {
     "name": "stdout",
     "output_type": "stream",
     "text": [
      "enter number=3\n",
      "enter no.50\n",
      "enter no.0\n",
      "enter no.80\n",
      "the numbers are (50, 0, 80)\n",
      "the max.number are 80\n",
      "the min.num are 0\n"
     ]
    }
   ],
   "source": [
    "s=()\n",
    "n=int(input(\"enter number=\"))\n",
    "for i in range(n):\n",
    "    x=int(input(\"enter no.\"))\n",
    "    s=s+(x,)\n",
    "print(\"the numbers are\",s)\n",
    "print(\"the max.number are\",max(s))\n",
    "print(\"the min.num are\",min(s))\n",
    "\n",
    "\n",
    "    "
   ]
  },
  {
   "cell_type": "code",
   "execution_count": 14,
   "metadata": {},
   "outputs": [
    {
     "name": "stdout",
     "output_type": "stream",
     "text": [
      "apple\n",
      "ball\n",
      "cat\n"
     ]
    }
   ],
   "source": [
    "a=(\"apple\",\"ball\",\"cat\")\n",
    "n=len(a)\n",
    "for i in range(n):\n",
    "    print(a[i])"
   ]
  },
  {
   "cell_type": "code",
   "execution_count": 17,
   "metadata": {},
   "outputs": [
    {
     "name": "stdout",
     "output_type": "stream",
     "text": [
      "Yes,Apple is in tuple 1\n"
     ]
    }
   ],
   "source": [
    "a=(\"Apple\",\"Ball\",\"Cat\")\n",
    "if \"Apple\" in a:\n",
    "    print(\"Yes,Apple is in tuple\",a.count(\"Apple\"))\n",
    "else:\n",
    "    print(\"No\")"
   ]
  },
  {
   "cell_type": "code",
   "execution_count": null,
   "metadata": {},
   "outputs": [],
   "source": [
    "#functions of tuple\n",
    "# max,min,sum,index,sorted\n",
    "#list tuple ma change garna milxa,tuple pani listma change hunxa"
   ]
  },
  {
   "cell_type": "code",
   "execution_count": 19,
   "metadata": {},
   "outputs": [
    {
     "name": "stdout",
     "output_type": "stream",
     "text": [
      "['apple', 'ball', 'bus', 'cat']\n"
     ]
    },
    {
     "data": {
      "text/plain": [
       "('apple', 'ball', 'cat', 'bus')"
      ]
     },
     "execution_count": 19,
     "metadata": {},
     "output_type": "execute_result"
    }
   ],
   "source": [
    "a=(\"apple\",\"ball\",\"cat\",\"bus\")\n",
    "print(sorted(a))\n",
    "a"
   ]
  },
  {
   "cell_type": "code",
   "execution_count": 4,
   "metadata": {},
   "outputs": [
    {
     "data": {
      "text/plain": [
       "[('1', '2', '3'), ('4', '5', '6'), ('7', '8', '9')]"
      ]
     },
     "execution_count": 4,
     "metadata": {},
     "output_type": "execute_result"
    }
   ],
   "source": [
    "a=(('1','2','3'),('4','5','6'),('7','8','9'))\n",
    "b=list(a)\n",
    "b"
   ]
  },
  {
   "cell_type": "code",
   "execution_count": 6,
   "metadata": {},
   "outputs": [
    {
     "data": {
      "text/plain": [
       "([1, 2, 3, 4], [4, 5, 6])"
      ]
     },
     "execution_count": 6,
     "metadata": {},
     "output_type": "execute_result"
    }
   ],
   "source": [
    "#list inside tuple\n",
    "a=([1,2,3],[4,5,6])\n",
    "a[0].append(4)\n",
    "a"
   ]
  },
  {
   "cell_type": "code",
   "execution_count": null,
   "metadata": {},
   "outputs": [],
   "source": [
    "#tuple inside list\n",
    "#list inside tuple"
   ]
  }
 ],
 "metadata": {
  "kernelspec": {
   "display_name": "Python 3",
   "language": "python",
   "name": "python3"
  },
  "language_info": {
   "codemirror_mode": {
    "name": "ipython",
    "version": 3
   },
   "file_extension": ".py",
   "mimetype": "text/x-python",
   "name": "python",
   "nbconvert_exporter": "python",
   "pygments_lexer": "ipython3",
   "version": "3.8.5"
  }
 },
 "nbformat": 4,
 "nbformat_minor": 4
}
