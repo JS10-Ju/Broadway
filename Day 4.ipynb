{
 "cells": [
  {
   "cell_type": "code",
   "execution_count": 5,
   "metadata": {},
   "outputs": [
    {
     "name": "stdout",
     "output_type": "stream",
     "text": [
      "20\n",
      "200\n"
     ]
    }
   ],
   "source": [
    "def area(l,b):\n",
    "    a=l*b\n",
    "    return a\n",
    "\n",
    "def vol(l,b,h):\n",
    "    v=area(l,b)*h\n",
    "    return v\n",
    "l=10\n",
    "b=2\n",
    "h=10\n",
    "\n",
    "print(area(l,b))\n",
    "print(vol(l,b,h))\n"
   ]
  },
  {
   "cell_type": "code",
   "execution_count": 11,
   "metadata": {},
   "outputs": [
    {
     "name": "stdout",
     "output_type": "stream",
     "text": [
      "enter p =100\n",
      "enter t =2\n",
      "enter r =2\n",
      "the value  of i = 4.0\n",
      "enter y for more times=y\n",
      "enter p =100\n",
      "enter t =2\n",
      "enter r =2\n",
      "the value  of i = 4.0\n",
      "enter y for more times=aghhga\n"
     ]
    }
   ],
   "source": [
    "#recursion function\n",
    "def interest():\n",
    "    p=float(input(\"enter p =\"))\n",
    "    t=float(input(\"enter t =\"))\n",
    "    r=float(input(\"enter r =\"))\n",
    "    i=p*t*r/100\n",
    "    print(\"the value  of i =\" ,i)\n",
    "    x=input(\"enter y for more times=\")\n",
    "    if x=='y':\n",
    "        interest()\n",
    "        \n",
    "interest()\n",
    "    "
   ]
  },
  {
   "cell_type": "code",
   "execution_count": 13,
   "metadata": {},
   "outputs": [
    {
     "name": "stdout",
     "output_type": "stream",
     "text": [
      "1.0\n"
     ]
    }
   ],
   "source": [
    "#math function\n",
    "import math as m\n",
    "a=m.sin(m.pi/2)\n",
    "b=m.cos(m.pi/2)\n",
    "c=m.pow(a,2)+m.pow(b,2)\n",
    "print(c)"
   ]
  },
  {
   "cell_type": "code",
   "execution_count": null,
   "metadata": {},
   "outputs": [],
   "source": [
    "# #if_else\n",
    "# if<condition>{}\n",
    "#   <operations>\n",
    "# elif <condition>\n",
    "#     <operations>\n",
    "# .\n",
    "# .\n",
    "# .\n",
    "# elif multiple time use hunxa\n",
    "# .\n",
    "# else:\n",
    "#     <operations>\n",
    "    "
   ]
  },
  {
   "cell_type": "code",
   "execution_count": null,
   "metadata": {},
   "outputs": [],
   "source": [
    "#operators\n",
    "#<> <= >= == !="
   ]
  },
  {
   "cell_type": "code",
   "execution_count": 16,
   "metadata": {},
   "outputs": [
    {
     "name": "stdout",
     "output_type": "stream",
     "text": [
      "a is greater than b\n"
     ]
    }
   ],
   "source": [
    "#if_else\n",
    "a=10\n",
    "b=20\n",
    "if a>b:\n",
    "    print(\"b is greater than a\")\n",
    "else:\n",
    "    print(\"a is greater than b\")\n",
    "    \n",
    "    \n",
    "    \n",
    "    \n",
    "    \n",
    "    \n",
    "    \n",
    "    \n",
    "    \n",
    "    \n",
    "    \n",
    "    \n",
    "    \n",
    "    \n",
    "    \n",
    "    \n",
    "    \n",
    "    \n",
    "    \n",
    "    \n",
    "    \n",
    "    \n",
    "    \n",
    "    \n",
    "    \n",
    "    \n",
    "    \n",
    "    \n",
    "    \n",
    "    \n",
    "    \n",
    "    \n",
    "    \n",
    "    \n",
    "    \n",
    "    \n",
    "    \n",
    "    \n",
    "    \n",
    "    \n",
    "    \n",
    "    \n",
    "    \n",
    "    \n",
    "    \n",
    "    \n",
    "    \n",
    "    \n",
    "    \n",
    "    \n",
    "    \n",
    "    \n",
    "    \n",
    "    \n",
    "    \n",
    "    \n",
    "    \n",
    "    \n",
    "    \n",
    "    \n",
    "    \n",
    "    \n",
    "    \n",
    "    \n",
    "    "
   ]
  },
  {
   "cell_type": "code",
   "execution_count": 21,
   "metadata": {},
   "outputs": [
    {
     "name": "stdout",
     "output_type": "stream",
     "text": [
      "enter a=10\n",
      "enter b=10\n",
      "both are equal\n"
     ]
    }
   ],
   "source": [
    "a=int(input(\"enter a=\"))\n",
    "b=int(input(\"enter b=\"))\n",
    "if a>b:\n",
    "    print(\"a is greater\")\n",
    "elif b>a:\n",
    "    print(\"b is greater\")\n",
    "else:\n",
    "    print(\"both are equal\")\n"
   ]
  },
  {
   "cell_type": "code",
   "execution_count": 1,
   "metadata": {},
   "outputs": [
    {
     "ename": "SyntaxError",
     "evalue": "invalid syntax (<ipython-input-1-806a6b304c05>, line 1)",
     "output_type": "error",
     "traceback": [
      "\u001b[1;36m  File \u001b[1;32m\"<ipython-input-1-806a6b304c05>\"\u001b[1;36m, line \u001b[1;32m1\u001b[0m\n\u001b[1;33m    def interest()\u001b[0m\n\u001b[1;37m                  ^\u001b[0m\n\u001b[1;31mSyntaxError\u001b[0m\u001b[1;31m:\u001b[0m invalid syntax\n"
     ]
    }
   ],
   "source": [
    "def interest()\n",
    "a=int(input(\"enter a=\"))\n",
    "b=int(input(\"enter b=\"))\n",
    "o=(input(\"enter operator\"))\n",
    "if o=='+':\n",
    "    print(a+b)\n",
    "elif o=='-':\n",
    "    print(a-b)\n",
    "elif o=='*':\n",
    "        print(a*b)\n",
    "elif o=='/':\n",
    "    if b!=0:\n",
    "        print(a/b)\n",
    "    else:\n",
    "        print(\"invalid\")\n",
    "\n",
    "else:\n",
    "    print(\"invalid operator\")\n",
    "interest()\n",
    "    \n"
   ]
  },
  {
   "cell_type": "code",
   "execution_count": 2,
   "metadata": {},
   "outputs": [],
   "source": [
    "# #nested if\n",
    "# if<condition>:\n",
    "#     <operations>:\n",
    "# else:\n",
    "#     <operations>\n",
    "    "
   ]
  },
  {
   "cell_type": "code",
   "execution_count": null,
   "metadata": {},
   "outputs": [],
   "source": [
    "#wap to make calculator using return type function.(sakinxa vane recursion function)"
   ]
  }
 ],
 "metadata": {
  "kernelspec": {
   "display_name": "Python 3",
   "language": "python",
   "name": "python3"
  },
  "language_info": {
   "codemirror_mode": {
    "name": "ipython",
    "version": 3
   },
   "file_extension": ".py",
   "mimetype": "text/x-python",
   "name": "python",
   "nbconvert_exporter": "python",
   "pygments_lexer": "ipython3",
   "version": "3.8.5"
  }
 },
 "nbformat": 4,
 "nbformat_minor": 4
}
