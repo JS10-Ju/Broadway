{
 "cells": [
  {
   "cell_type": "code",
   "execution_count": null,
   "metadata": {},
   "outputs": [],
   "source": [
    "# Inheritance\n",
    "# multi level inheritance\n",
    "# multiple inheritance\n"
   ]
  },
  {
   "cell_type": "code",
   "execution_count": 9,
   "metadata": {},
   "outputs": [
    {
     "name": "stdout",
     "output_type": "stream",
     "text": [
      "hello i am Ram.i am 25 years old\n"
     ]
    }
   ],
   "source": [
    "class profile:\n",
    "    def __init__(self,name,age):\n",
    "        self.name=name\n",
    "        self.age=age\n",
    "        \n",
    "class Hr(profile):\n",
    "    def hello(self):\n",
    "        print(f\"hello i am {self.name}.i am {self.age} years old\")\n",
    "obj=Hr(\"Ram\",25)\n",
    "obj.hello()"
   ]
  },
  {
   "cell_type": "code",
   "execution_count": 10,
   "metadata": {},
   "outputs": [
    {
     "name": "stdout",
     "output_type": "stream",
     "text": [
      "hello i am Ram.i am 25 years old\n",
      "shyam 25\n"
     ]
    }
   ],
   "source": [
    "class profile:\n",
    "    def __init__(self,name,age):\n",
    "        self.name=name\n",
    "        self.age=age\n",
    "        \n",
    "class Hr(profile):\n",
    "    def hello(self):\n",
    "        print(f\"hello i am {self.name}.i am {self.age} years old\")\n",
    "obj=Hr(\"Ram\",25)\n",
    "obj.hello()\n",
    "obj1=Hr(\"shyam\",24)\n",
    "print(obj1.name,obj.age)"
   ]
  },
  {
   "cell_type": "code",
   "execution_count": 3,
   "metadata": {},
   "outputs": [
    {
     "name": "stdout",
     "output_type": "stream",
     "text": [
      "this is class A\n",
      "this is class B\n",
      "this is class C\n"
     ]
    }
   ],
   "source": [
    "class A:\n",
    "    print(\"this is class A\")\n",
    "class B(A):\n",
    "    print(\"this is class B\")\n",
    "class C(B):\n",
    "    print(\"this is class C\")\n",
    "    \n",
    "obj=C"
   ]
  },
  {
   "cell_type": "code",
   "execution_count": 8,
   "metadata": {},
   "outputs": [
    {
     "name": "stdout",
     "output_type": "stream",
     "text": [
      "Hari 30\n",
      "hello i am Ram.i am 25 years old\n",
      "Ram 25\n",
      "Ram 25\n",
      "shyam 24\n"
     ]
    }
   ],
   "source": [
    "# multilevel\n",
    "class profile:\n",
    "    def __init__(self,name,age):\n",
    "        self.name=name\n",
    "        self.age=age\n",
    "class office(profile):\n",
    "    def office(self):\n",
    "        print(self.name,self.age)\n",
    "class hi(office):\n",
    "    def hi(self):\n",
    "        print(self.name,self.age)\n",
    "class Hr(hi):\n",
    "    def hello(self):\n",
    "        print(f\"hello i am {self.name}.i am {self.age} years old\")\n",
    "obj=Hr(\"Ram\",25)\n",
    "obj1=Hr(\"Hari\",30)\n",
    "print(obj1.name,obj1.age)\n",
    "obj.hello()\n",
    "obj.office()\n",
    "obj.hi()\n",
    "obj2=Hr(\"shyam\",24)\n",
    "print(obj2.name,obj2.age)"
   ]
  },
  {
   "cell_type": "code",
   "execution_count": 10,
   "metadata": {},
   "outputs": [
    {
     "name": "stdout",
     "output_type": "stream",
     "text": [
      "this is class A\n",
      "this is class B\n"
     ]
    }
   ],
   "source": [
    "class A:\n",
    "    def a(self):\n",
    "        print(\"this is class A\")\n",
    "class B(A):\n",
    "    def b(self):\n",
    "        print(\"this is class B\")\n",
    "class C(B):\n",
    "    def c(self):\n",
    "        print(\"this is class C\")\n",
    "    \n",
    "obj=C()\n",
    "obj.a()\n",
    "obj.b()"
   ]
  },
  {
   "cell_type": "code",
   "execution_count": null,
   "metadata": {},
   "outputs": [],
   "source": [
    "class person:\n",
    "    def __init__(self,name,age):\n",
    "        self.name=name\n",
    "        self.age=age\n",
    "    def shownName(self):\n",
    "        print(self.name)\n",
    "    def ShownAge(self):\n",
    "        print(self.age)\n",
    "class student:\n",
    "    def __init__(self,student_id):\n",
    "        self.student_id=studentid\n",
    "    def getid(self):\n",
    "        return self.studentid\n",
    "class resident(person,student)"
   ]
  }
 ],
 "metadata": {
  "kernelspec": {
   "display_name": "Python 3",
   "language": "python",
   "name": "python3"
  },
  "language_info": {
   "codemirror_mode": {
    "name": "ipython",
    "version": 3
   },
   "file_extension": ".py",
   "mimetype": "text/x-python",
   "name": "python",
   "nbconvert_exporter": "python",
   "pygments_lexer": "ipython3",
   "version": "3.8.5"
  }
 },
 "nbformat": 4,
 "nbformat_minor": 4
}
